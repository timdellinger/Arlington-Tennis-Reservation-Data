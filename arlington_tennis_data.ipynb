{
  "nbformat": 4,
  "nbformat_minor": 0,
  "metadata": {
    "colab": {
      "name": "arlington tennis data.ipynb",
      "version": "0.3.2",
      "provenance": [],
      "collapsed_sections": [],
      "include_colab_link": true
    },
    "kernelspec": {
      "name": "python3",
      "display_name": "Python 3"
    }
  },
  "cells": [
    {
      "cell_type": "markdown",
      "metadata": {
        "id": "view-in-github",
        "colab_type": "text"
      },
      "source": [
        "[View in Colaboratory](https://colab.research.google.com/github/timdellinger/Arlington-Tennis-Reservation-Data/blob/master/arlington_tennis_data.ipynb)"
      ]
    },
    {
      "metadata": {
        "id": "zahapa0b8pgU",
        "colab_type": "text"
      },
      "cell_type": "markdown",
      "source": [
        "Arlington County VA makes its tennis court reservation data available through an open data initiative.  Let's have a look at it and see what can be learned...\n",
        "\n",
        "I'll gratuitously comment a bit, in order to demonstrate my apporach to a dataset, and how I think as a data scientist.\n",
        "\n",
        "Disclosure: I'm advocating that the county convert an existing set of tennis courts into pickleball courts!  The targeted location is the Walter Reed Community Center.\n",
        "\n",
        "\n",
        "tl;dr:\n",
        "\n",
        "Data science is mostly data munging, and there wasn't really a call for ai / machine learning, but some nice visualizations were made and insights gleaned:\n",
        "\n",
        "\n",
        "\n",
        "*   Out of the 84 reservable courts in Arlington, the Walter Reed courts rank number 48, 49, and 50 in popularity\n",
        "*   Courts at facilities with 6+ courts get the lions' share of the reservations.  (Walter Reed has only 3 courts.)\n",
        "*   Overall reservations are declining every year\n",
        "*   Walter Reed is thus an ideal candidate for conversion to pickleball courts\n",
        "\n",
        "\n",
        "\n",
        "\n",
        "Tim Dellinger"
      ]
    },
    {
      "metadata": {
        "id": "PGjE_s5xFysw",
        "colab_type": "text"
      },
      "cell_type": "markdown",
      "source": [
        "The data can be found at Arlington County's Open Data Portal at the following URL:\n",
        "https://data.arlingtonva.us/dataviews/244537/tennis-court-reservation/\n",
        "\n",
        "It's accompanied by the following descriptive note:\n",
        "\n",
        "Tennis Court reservation data beginning July 1, 2016 through the current date.  Due to the dynamic nature of reservation data, future reservations are not shown and data is subject to change.  Questions about Department of Parks and Recreation data sets should be directed to dpr@arlingtonva.us.\n"
      ]
    },
    {
      "metadata": {
        "id": "k_N12QlznWf6",
        "colab_type": "text"
      },
      "cell_type": "markdown",
      "source": [
        "I'll export the data from the Arlington County website as a .csv, and rename the file tennisdata.csv on my local hard drive."
      ]
    },
    {
      "metadata": {
        "id": "f-M2efNvN8Vr",
        "colab_type": "code",
        "colab": {}
      },
      "cell_type": "code",
      "source": [
        "import pandas as pd\n",
        "from google.colab import files\n",
        "import numpy as np\n",
        "import seaborn as sns\n",
        "import matplotlib"
      ],
      "execution_count": 0,
      "outputs": []
    },
    {
      "metadata": {
        "id": "b2tx7XQjMg1z",
        "colab_type": "text"
      },
      "cell_type": "markdown",
      "source": [
        "Google CoLab likes to read in files like so:"
      ]
    },
    {
      "metadata": {
        "id": "ysAbw5VxUhu8",
        "colab_type": "code",
        "colab": {
          "resources": {
            "http://localhost:8080/nbextensions/google.colab/files.js": {
              "data": "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",
              "ok": true,
              "headers": [
                [
                  "content-type",
                  "application/javascript"
                ]
              ],
              "status": 200,
              "status_text": ""
            }
          },
          "base_uri": "https://localhost:8080/",
          "height": 72
        },
        "outputId": "5d3a8c2f-6674-44bc-8432-74caf340aa2e"
      },
      "cell_type": "code",
      "source": [
        "uploaded = files.upload()"
      ],
      "execution_count": 3,
      "outputs": [
        {
          "output_type": "display_data",
          "data": {
            "text/html": [
              "\n",
              "     <input type=\"file\" id=\"files-433a6e7f-3055-4e68-86d0-e4ccaed9fa5d\" name=\"files[]\" multiple disabled />\n",
              "     <output id=\"result-433a6e7f-3055-4e68-86d0-e4ccaed9fa5d\">\n",
              "      Upload widget is only available when the cell has been executed in the\n",
              "      current browser session. Please rerun this cell to enable.\n",
              "      </output>\n",
              "      <script src=\"/nbextensions/google.colab/files.js\"></script> "
            ],
            "text/plain": [
              "<IPython.core.display.HTML object>"
            ]
          },
          "metadata": {
            "tags": []
          }
        },
        {
          "output_type": "stream",
          "text": [
            "Saving tennisdata.csv to tennisdata.csv\n"
          ],
          "name": "stdout"
        }
      ]
    },
    {
      "metadata": {
        "id": "rCO4LRtFaRWq",
        "colab_type": "code",
        "colab": {
          "base_uri": "https://localhost:8080/",
          "height": 34
        },
        "outputId": "d0d07531-a826-4f86-d7c4-57fa7c10ab0e"
      },
      "cell_type": "code",
      "source": [
        "for fn in uploaded.keys():\n",
        "  print('User uploaded file \"{name}\" with length {length} bytes'.format(\n",
        "      name=fn, length=len(uploaded[fn])))"
      ],
      "execution_count": 4,
      "outputs": [
        {
          "output_type": "stream",
          "text": [
            "User uploaded file \"tennisdata.csv\" with length 16235610 bytes\n"
          ],
          "name": "stdout"
        }
      ]
    },
    {
      "metadata": {
        "id": "XakZfunbONd4",
        "colab_type": "code",
        "colab": {}
      },
      "cell_type": "code",
      "source": [
        "df = pd.read_csv('tennisdata.csv')"
      ],
      "execution_count": 0,
      "outputs": []
    },
    {
      "metadata": {
        "id": "WM2QYc-LMivl",
        "colab_type": "text"
      },
      "cell_type": "markdown",
      "source": [
        "Okay, let's see if it woked... what have we got?"
      ]
    },
    {
      "metadata": {
        "id": "k5az8CUsOCdT",
        "colab_type": "code",
        "colab": {
          "base_uri": "https://localhost:8080/",
          "height": 34
        },
        "outputId": "f3ea22ce-c6da-4381-e930-289320b55428"
      },
      "cell_type": "code",
      "source": [
        "df.shape"
      ],
      "execution_count": 5,
      "outputs": [
        {
          "output_type": "execute_result",
          "data": {
            "text/plain": [
              "(46288, 25)"
            ]
          },
          "metadata": {
            "tags": []
          },
          "execution_count": 5
        }
      ]
    },
    {
      "metadata": {
        "id": "2u8B8IjiaUi4",
        "colab_type": "code",
        "colab": {
          "base_uri": "https://localhost:8080/",
          "height": 170
        },
        "outputId": "f8f6489d-386b-4b55-fbaf-68a8cabe5f92"
      },
      "cell_type": "code",
      "source": [
        "df.columns"
      ],
      "execution_count": 6,
      "outputs": [
        {
          "output_type": "execute_result",
          "data": {
            "text/plain": [
              "Index(['ParkFacilityReservationKey', 'LocationName', 'FacilityName',\n",
              "       'StreetAddressText', 'CityName', 'ZipCode', 'ReservationBeginDate',\n",
              "       'ReservationBeginTime', 'ReservationEndDate', 'ReservationEndTime',\n",
              "       'TransactionDate', 'TransactionTime', 'LatitudeAndLongitudeCrd',\n",
              "       'ReservationDsc', 'FacilityLocationCode', 'FacilitySpaceCode',\n",
              "       'CustomerName', 'HouseholdNbr', 'HeadCnt', 'ReservationPurposeDsc',\n",
              "       'ComboKeyCode', 'FacilityParentCode', 'FacilityChildCodeList',\n",
              "       'FacilitySiblingCodeList', 'ReservationFacilityTypeCode'],\n",
              "      dtype='object')"
            ]
          },
          "metadata": {
            "tags": []
          },
          "execution_count": 6
        }
      ]
    },
    {
      "metadata": {
        "id": "xwH7nkyyTogM",
        "colab_type": "text"
      },
      "cell_type": "markdown",
      "source": [
        "Let's peek at a random row..."
      ]
    },
    {
      "metadata": {
        "id": "2TjB_buQMrRj",
        "colab_type": "code",
        "colab": {
          "base_uri": "https://localhost:8080/",
          "height": 146
        },
        "outputId": "a9a6fa3b-125b-40d4-92eb-ec1c431826ef"
      },
      "cell_type": "code",
      "source": [
        "df[16:17]"
      ],
      "execution_count": 7,
      "outputs": [
        {
          "output_type": "execute_result",
          "data": {
            "text/html": [
              "<div>\n",
              "<style scoped>\n",
              "    .dataframe tbody tr th:only-of-type {\n",
              "        vertical-align: middle;\n",
              "    }\n",
              "\n",
              "    .dataframe tbody tr th {\n",
              "        vertical-align: top;\n",
              "    }\n",
              "\n",
              "    .dataframe thead th {\n",
              "        text-align: right;\n",
              "    }\n",
              "</style>\n",
              "<table border=\"1\" class=\"dataframe\">\n",
              "  <thead>\n",
              "    <tr style=\"text-align: right;\">\n",
              "      <th></th>\n",
              "      <th>ParkFacilityReservationKey</th>\n",
              "      <th>LocationName</th>\n",
              "      <th>FacilityName</th>\n",
              "      <th>StreetAddressText</th>\n",
              "      <th>CityName</th>\n",
              "      <th>ZipCode</th>\n",
              "      <th>ReservationBeginDate</th>\n",
              "      <th>ReservationBeginTime</th>\n",
              "      <th>ReservationEndDate</th>\n",
              "      <th>ReservationEndTime</th>\n",
              "      <th>...</th>\n",
              "      <th>FacilitySpaceCode</th>\n",
              "      <th>CustomerName</th>\n",
              "      <th>HouseholdNbr</th>\n",
              "      <th>HeadCnt</th>\n",
              "      <th>ReservationPurposeDsc</th>\n",
              "      <th>ComboKeyCode</th>\n",
              "      <th>FacilityParentCode</th>\n",
              "      <th>FacilityChildCodeList</th>\n",
              "      <th>FacilitySiblingCodeList</th>\n",
              "      <th>ReservationFacilityTypeCode</th>\n",
              "    </tr>\n",
              "  </thead>\n",
              "  <tbody>\n",
              "    <tr>\n",
              "      <th>16</th>\n",
              "      <td>102347</td>\n",
              "      <td>Maury Park</td>\n",
              "      <td>Tennis Court #1</td>\n",
              "      <td>3550 Wilson Blvd</td>\n",
              "      <td>Arlington</td>\n",
              "      <td>22201.0</td>\n",
              "      <td>2016-11-06</td>\n",
              "      <td>11:00:00</td>\n",
              "      <td>2016-11-06</td>\n",
              "      <td>12:15:00</td>\n",
              "      <td>...</td>\n",
              "      <td>CRT 1</td>\n",
              "      <td>DPR</td>\n",
              "      <td>182137</td>\n",
              "      <td>4</td>\n",
              "      <td>140602-L (Tennis 2)</td>\n",
              "      <td>TENIS_MAURY_CRT 1</td>\n",
              "      <td>TENIS_MAURY_ALL</td>\n",
              "      <td>NaN</td>\n",
              "      <td>NaN</td>\n",
              "      <td>TENIS</td>\n",
              "    </tr>\n",
              "  </tbody>\n",
              "</table>\n",
              "<p>1 rows × 25 columns</p>\n",
              "</div>"
            ],
            "text/plain": [
              "    ParkFacilityReservationKey LocationName     FacilityName  \\\n",
              "16                      102347   Maury Park  Tennis Court #1   \n",
              "\n",
              "   StreetAddressText   CityName  ZipCode ReservationBeginDate  \\\n",
              "16  3550 Wilson Blvd  Arlington  22201.0           2016-11-06   \n",
              "\n",
              "   ReservationBeginTime ReservationEndDate ReservationEndTime  \\\n",
              "16             11:00:00         2016-11-06           12:15:00   \n",
              "\n",
              "               ...             FacilitySpaceCode CustomerName HouseholdNbr  \\\n",
              "16             ...                         CRT 1          DPR       182137   \n",
              "\n",
              "   HeadCnt ReservationPurposeDsc       ComboKeyCode FacilityParentCode  \\\n",
              "16       4   140602-L (Tennis 2)  TENIS_MAURY_CRT 1    TENIS_MAURY_ALL   \n",
              "\n",
              "    FacilityChildCodeList  FacilitySiblingCodeList ReservationFacilityTypeCode  \n",
              "16                    NaN                      NaN                       TENIS  \n",
              "\n",
              "[1 rows x 25 columns]"
            ]
          },
          "metadata": {
            "tags": []
          },
          "execution_count": 7
        }
      ]
    },
    {
      "metadata": {
        "id": "e4jP0G4jv4Zu",
        "colab_type": "text"
      },
      "cell_type": "markdown",
      "source": [
        "Ususally worth a check for missing data, just to see where there might be issues."
      ]
    },
    {
      "metadata": {
        "id": "rODS9nzOv4_i",
        "colab_type": "code",
        "colab": {
          "base_uri": "https://localhost:8080/",
          "height": 459
        },
        "outputId": "1670b954-7795-4992-b0bf-c36bc3fb81fe"
      },
      "cell_type": "code",
      "source": [
        "df.isnull().sum()"
      ],
      "execution_count": 8,
      "outputs": [
        {
          "output_type": "execute_result",
          "data": {
            "text/plain": [
              "ParkFacilityReservationKey         0\n",
              "LocationName                       0\n",
              "FacilityName                       0\n",
              "StreetAddressText                  0\n",
              "CityName                           0\n",
              "ZipCode                         3075\n",
              "ReservationBeginDate               0\n",
              "ReservationBeginTime               0\n",
              "ReservationEndDate                 0\n",
              "ReservationEndTime                 0\n",
              "TransactionDate                    0\n",
              "TransactionTime                    0\n",
              "LatitudeAndLongitudeCrd            0\n",
              "ReservationDsc                     0\n",
              "FacilityLocationCode               0\n",
              "FacilitySpaceCode                  0\n",
              "CustomerName                       0\n",
              "HouseholdNbr                       0\n",
              "HeadCnt                            0\n",
              "ReservationPurposeDsc           3309\n",
              "ComboKeyCode                       0\n",
              "FacilityParentCode             19758\n",
              "FacilityChildCodeList          26530\n",
              "FacilitySiblingCodeList        46288\n",
              "ReservationFacilityTypeCode        0\n",
              "dtype: int64"
            ]
          },
          "metadata": {
            "tags": []
          },
          "execution_count": 8
        }
      ]
    },
    {
      "metadata": {
        "id": "zF8CoINRNHYL",
        "colab_type": "text"
      },
      "cell_type": "markdown",
      "source": [
        "Let's convert the reservation start and end times to datetime timestamps... pandas likes that format.  I'll just go ahead and make new columns."
      ]
    },
    {
      "metadata": {
        "id": "J9ldTv9RM8Ee",
        "colab_type": "code",
        "colab": {}
      },
      "cell_type": "code",
      "source": [
        "df['start_datetime'] = df[\"ReservationBeginDate\"].map(str) + str(\" \") + df[\"ReservationBeginTime\"].map(str)\n",
        "df['end_datetime'] = df[\"ReservationEndDate\"].map(str) + str(\" \") + df[\"ReservationEndTime\"].map(str)"
      ],
      "execution_count": 0,
      "outputs": []
    },
    {
      "metadata": {
        "id": "J-bafCFZN7gs",
        "colab_type": "text"
      },
      "cell_type": "markdown",
      "source": [
        "Having a peek at one to see if it worked..."
      ]
    },
    {
      "metadata": {
        "id": "lrWOJ-6pN0Fk",
        "colab_type": "code",
        "colab": {
          "base_uri": "https://localhost:8080/",
          "height": 34
        },
        "outputId": "965fe9e8-9224-4c20-a927-9015ac7e6321"
      },
      "cell_type": "code",
      "source": [
        "df.start_datetime[2]"
      ],
      "execution_count": 7,
      "outputs": [
        {
          "output_type": "execute_result",
          "data": {
            "text/plain": [
              "'2016-11-06 10:00:00'"
            ]
          },
          "metadata": {
            "tags": []
          },
          "execution_count": 7
        }
      ]
    },
    {
      "metadata": {
        "id": "mgi4zCBEOTTt",
        "colab_type": "text"
      },
      "cell_type": "markdown",
      "source": [
        "Okay, looks like somthing that can convert to datetime timestamps... converting the format of the columns."
      ]
    },
    {
      "metadata": {
        "id": "NxE08iZCN0ia",
        "colab_type": "code",
        "colab": {}
      },
      "cell_type": "code",
      "source": [
        "df['start_datetime'] = pd.to_datetime(df.start_datetime)\n",
        "df['end_datetime'] = pd.to_datetime(df.end_datetime)\n"
      ],
      "execution_count": 0,
      "outputs": []
    },
    {
      "metadata": {
        "id": "lfNU97F3S3dE",
        "colab_type": "text"
      },
      "cell_type": "markdown",
      "source": [
        "Let's make sure it worked, and the usual datetime methods run smoothly..."
      ]
    },
    {
      "metadata": {
        "id": "ewnSeb53Ol80",
        "colab_type": "code",
        "colab": {
          "base_uri": "https://localhost:8080/",
          "height": 34
        },
        "outputId": "af72acb0-9aeb-4730-cf5d-b2f745ec2409"
      },
      "cell_type": "code",
      "source": [
        "df.start_datetime[2].weekday_name"
      ],
      "execution_count": 9,
      "outputs": [
        {
          "output_type": "execute_result",
          "data": {
            "text/plain": [
              "'Sunday'"
            ]
          },
          "metadata": {
            "tags": []
          },
          "execution_count": 9
        }
      ]
    },
    {
      "metadata": {
        "id": "9pKsGax8jKMI",
        "colab_type": "text"
      },
      "cell_type": "markdown",
      "source": [
        "This'll tell us the first and last reservations in the dataset:"
      ]
    },
    {
      "metadata": {
        "id": "GW_fczroBPCP",
        "colab_type": "code",
        "colab": {
          "base_uri": "https://localhost:8080/",
          "height": 136
        },
        "outputId": "d07a9430-3845-4d58-a550-ef5a168dd7b7"
      },
      "cell_type": "code",
      "source": [
        "df.start_datetime.describe()"
      ],
      "execution_count": 10,
      "outputs": [
        {
          "output_type": "execute_result",
          "data": {
            "text/plain": [
              "count                   46288\n",
              "unique                   7701\n",
              "top       2018-05-12 10:00:00\n",
              "freq                       58\n",
              "first     2016-01-03 10:30:00\n",
              "last      2018-10-01 20:45:00\n",
              "Name: start_datetime, dtype: object"
            ]
          },
          "metadata": {
            "tags": []
          },
          "execution_count": 10
        }
      ]
    },
    {
      "metadata": {
        "id": "PtuPxlaw7hZT",
        "colab_type": "text"
      },
      "cell_type": "markdown",
      "source": [
        "Adding day of the week as a column since it'll be useful later\n"
      ]
    },
    {
      "metadata": {
        "id": "UqgDQFFK8Bf2",
        "colab_type": "code",
        "colab": {}
      },
      "cell_type": "code",
      "source": [
        "df['day_of_the_week'] = df.start_datetime.dt.weekday_name"
      ],
      "execution_count": 0,
      "outputs": []
    },
    {
      "metadata": {
        "id": "zrrA2qCkSrb2",
        "colab_type": "text"
      },
      "cell_type": "markdown",
      "source": [
        "One more column which also might be useful later: length of the reservation"
      ]
    },
    {
      "metadata": {
        "id": "23spmhCSTV0k",
        "colab_type": "code",
        "colab": {}
      },
      "cell_type": "code",
      "source": [
        "df['reservation_length'] = df.end_datetime - df.start_datetime"
      ],
      "execution_count": 0,
      "outputs": []
    },
    {
      "metadata": {
        "id": "K5FORLhSUoUv",
        "colab_type": "text"
      },
      "cell_type": "markdown",
      "source": [
        "Looking at basic stats on reservation length:"
      ]
    },
    {
      "metadata": {
        "id": "VlkJ36OvViRO",
        "colab_type": "code",
        "colab": {
          "base_uri": "https://localhost:8080/",
          "height": 170
        },
        "outputId": "c681fd73-972a-4e87-fe83-5d67ea50367a"
      },
      "cell_type": "code",
      "source": [
        "df.reservation_length.describe()"
      ],
      "execution_count": 15,
      "outputs": [
        {
          "output_type": "execute_result",
          "data": {
            "text/plain": [
              "count                     46288\n",
              "mean     0 days 02:13:29.879450\n",
              "std      0 days 02:20:07.064045\n",
              "min             0 days 00:30:00\n",
              "25%             0 days 01:00:00\n",
              "50%             0 days 01:15:00\n",
              "75%             0 days 03:00:00\n",
              "max             1 days 02:00:00\n",
              "Name: reservation_length, dtype: object"
            ]
          },
          "metadata": {
            "tags": []
          },
          "execution_count": 15
        }
      ]
    },
    {
      "metadata": {
        "id": "maj0Z3o_XoJQ",
        "colab_type": "text"
      },
      "cell_type": "markdown",
      "source": [
        " I'm thinking that the \"max\" of 26 hours might be a typo, with the intended reservation being 2 hours.  Let's have a peek a historgram, and recall that df.hist() will thow a Type Error unless we convert to, say, hours."
      ]
    },
    {
      "metadata": {
        "id": "uP4zUqJhez5p",
        "colab_type": "code",
        "colab": {
          "base_uri": "https://localhost:8080/",
          "height": 364
        },
        "outputId": "99b2df06-ea6d-4e98-affc-14b4838aec4d"
      },
      "cell_type": "code",
      "source": [
        "(df.reservation_length.astype('timedelta64[h]')).hist(bins=range(0,30,1))"
      ],
      "execution_count": 16,
      "outputs": [
        {
          "output_type": "execute_result",
          "data": {
            "text/plain": [
              "<matplotlib.axes._subplots.AxesSubplot at 0x7fb4d696ef28>"
            ]
          },
          "metadata": {
            "tags": []
          },
          "execution_count": 16
        },
        {
          "output_type": "display_data",
          "data": {
            "image/png": "[encoded data removed]",
            "text/plain": [
              "<matplotlib.figure.Figure at 0x7fb4d696e898>"
            ]
          },
          "metadata": {
            "tags": []
          }
        }
      ]
    },
    {
      "metadata": {
        "id": "43PC7_seAcbF",
        "colab_type": "text"
      },
      "cell_type": "markdown",
      "source": [
        "The plot isn't showing showing the 26 hour reservation... maybe a log scale plot will reveal it.  Good thing we looked at the descriptive stats and not just the historgram!"
      ]
    },
    {
      "metadata": {
        "id": "59lpd4vg_zf-",
        "colab_type": "code",
        "colab": {
          "base_uri": "https://localhost:8080/",
          "height": 364
        },
        "outputId": "ea5f162f-f9ef-40c9-e85e-86258c5a175b"
      },
      "cell_type": "code",
      "source": [
        "(df.reservation_length.astype('timedelta64[h]')).hist(bins=range(0,30,1), log=True)"
      ],
      "execution_count": 17,
      "outputs": [
        {
          "output_type": "execute_result",
          "data": {
            "text/plain": [
              "<matplotlib.axes._subplots.AxesSubplot at 0x7fb4d5fcef28>"
            ]
          },
          "metadata": {
            "tags": []
          },
          "execution_count": 17
        },
        {
          "output_type": "display_data",
          "data": {
            "image/png": "[encoded data removed]",
            "text/plain": [
              "<matplotlib.figure.Figure at 0x7fb4d5ff79b0>"
            ]
          },
          "metadata": {
            "tags": []
          }
        }
      ]
    },
    {
      "metadata": {
        "id": "AVwwtJZRBIYL",
        "colab_type": "text"
      },
      "cell_type": "markdown",
      "source": [
        "Okay, not very many reservations over a day in length... those aren't really going to effect any analysis we might do very much.  Looks like most reservations are for a single play session (likely league play), an order of magnitude fewer reservations for all-day-ish, which are likely camps.  Or perhaps maintainence."
      ]
    },
    {
      "metadata": {
        "id": "W4KmXlJmHBUg",
        "colab_type": "text"
      },
      "cell_type": "markdown",
      "source": [
        "Nexy let's take a look at which day of the week the courts are used... let's make a heatmap by location and see what turns up.  Creating a new dataframe to use as input to feed into sns.heatmap"
      ]
    },
    {
      "metadata": {
        "id": "qflGSgv11wV1",
        "colab_type": "code",
        "colab": {}
      },
      "cell_type": "code",
      "source": [
        "df_heat_1 = df.groupby(['day_of_the_week','LocationName'])['start_datetime'].count().unstack(fill_value=0)"
      ],
      "execution_count": 0,
      "outputs": []
    },
    {
      "metadata": {
        "id": "ZWNkDIKfEAfS",
        "colab_type": "text"
      },
      "cell_type": "markdown",
      "source": [
        "The days are going to be in alphabetical order, so let's reorder.  I tend to just make day_of_the_week (which is the index) into an ordered Categorical, and sort the index.\n",
        "\n"
      ]
    },
    {
      "metadata": {
        "id": "A4FTjxGCGQtn",
        "colab_type": "code",
        "colab": {}
      },
      "cell_type": "code",
      "source": [
        "df_heat_1.index = pd.Categorical(df_heat_1.index,categories=['Monday','Tuesday','Wednesday','Thursday','Friday','Saturday','Sunday'], ordered=True)\n"
      ],
      "execution_count": 0,
      "outputs": []
    },
    {
      "metadata": {
        "id": "HY5EIFEAI0y8",
        "colab_type": "code",
        "colab": {}
      },
      "cell_type": "code",
      "source": [
        "df_heat_1 = df_heat_1.sort_index()"
      ],
      "execution_count": 0,
      "outputs": []
    },
    {
      "metadata": {
        "id": "Mv6tewfvFaeY",
        "colab_type": "code",
        "colab": {
          "base_uri": "https://localhost:8080/",
          "height": 349
        },
        "outputId": "fe632009-93e6-4be3-9c79-9e8ac0b0b8aa"
      },
      "cell_type": "code",
      "source": [
        "df_heat_1"
      ],
      "execution_count": 21,
      "outputs": [
        {
          "output_type": "execute_result",
          "data": {
            "text/html": [
              "<div>\n",
              "<style scoped>\n",
              "    .dataframe tbody tr th:only-of-type {\n",
              "        vertical-align: middle;\n",
              "    }\n",
              "\n",
              "    .dataframe tbody tr th {\n",
              "        vertical-align: top;\n",
              "    }\n",
              "\n",
              "    .dataframe thead th {\n",
              "        text-align: right;\n",
              "    }\n",
              "</style>\n",
              "<table border=\"1\" class=\"dataframe\">\n",
              "  <thead>\n",
              "    <tr style=\"text-align: right;\">\n",
              "      <th>LocationName</th>\n",
              "      <th>Barcroft Park</th>\n",
              "      <th>Bluemont Park</th>\n",
              "      <th>Bon Air Park</th>\n",
              "      <th>Drew Center</th>\n",
              "      <th>Fort Scott Park</th>\n",
              "      <th>Glebe Park</th>\n",
              "      <th>Greenbrier Park</th>\n",
              "      <th>Gunston Center</th>\n",
              "      <th>Hayes Park</th>\n",
              "      <th>Jamestown Park</th>\n",
              "      <th>...</th>\n",
              "      <th>Marcey Road Park</th>\n",
              "      <th>Maury Park</th>\n",
              "      <th>Quincy Park</th>\n",
              "      <th>Stratford Park</th>\n",
              "      <th>Thomas Jefferson Center</th>\n",
              "      <th>Towers Park</th>\n",
              "      <th>Tuckahoe Park</th>\n",
              "      <th>Virginia Highlands Park</th>\n",
              "      <th>Wakefield High School</th>\n",
              "      <th>Walter Reed Center</th>\n",
              "    </tr>\n",
              "  </thead>\n",
              "  <tbody>\n",
              "    <tr>\n",
              "      <th>Monday</th>\n",
              "      <td>54</td>\n",
              "      <td>1634</td>\n",
              "      <td>42</td>\n",
              "      <td>0</td>\n",
              "      <td>18</td>\n",
              "      <td>44</td>\n",
              "      <td>450</td>\n",
              "      <td>38</td>\n",
              "      <td>1327</td>\n",
              "      <td>29</td>\n",
              "      <td>...</td>\n",
              "      <td>839</td>\n",
              "      <td>28</td>\n",
              "      <td>732</td>\n",
              "      <td>0</td>\n",
              "      <td>43</td>\n",
              "      <td>125</td>\n",
              "      <td>305</td>\n",
              "      <td>164</td>\n",
              "      <td>582</td>\n",
              "      <td>488</td>\n",
              "    </tr>\n",
              "    <tr>\n",
              "      <th>Tuesday</th>\n",
              "      <td>886</td>\n",
              "      <td>1642</td>\n",
              "      <td>163</td>\n",
              "      <td>0</td>\n",
              "      <td>152</td>\n",
              "      <td>336</td>\n",
              "      <td>470</td>\n",
              "      <td>72</td>\n",
              "      <td>206</td>\n",
              "      <td>3</td>\n",
              "      <td>...</td>\n",
              "      <td>128</td>\n",
              "      <td>24</td>\n",
              "      <td>1014</td>\n",
              "      <td>3</td>\n",
              "      <td>73</td>\n",
              "      <td>94</td>\n",
              "      <td>288</td>\n",
              "      <td>196</td>\n",
              "      <td>510</td>\n",
              "      <td>70</td>\n",
              "    </tr>\n",
              "    <tr>\n",
              "      <th>Wednesday</th>\n",
              "      <td>152</td>\n",
              "      <td>1848</td>\n",
              "      <td>150</td>\n",
              "      <td>0</td>\n",
              "      <td>254</td>\n",
              "      <td>454</td>\n",
              "      <td>465</td>\n",
              "      <td>42</td>\n",
              "      <td>1207</td>\n",
              "      <td>12</td>\n",
              "      <td>...</td>\n",
              "      <td>146</td>\n",
              "      <td>54</td>\n",
              "      <td>1486</td>\n",
              "      <td>0</td>\n",
              "      <td>27</td>\n",
              "      <td>127</td>\n",
              "      <td>1111</td>\n",
              "      <td>174</td>\n",
              "      <td>502</td>\n",
              "      <td>282</td>\n",
              "    </tr>\n",
              "    <tr>\n",
              "      <th>Thursday</th>\n",
              "      <td>120</td>\n",
              "      <td>1874</td>\n",
              "      <td>0</td>\n",
              "      <td>0</td>\n",
              "      <td>18</td>\n",
              "      <td>60</td>\n",
              "      <td>466</td>\n",
              "      <td>158</td>\n",
              "      <td>170</td>\n",
              "      <td>6</td>\n",
              "      <td>...</td>\n",
              "      <td>418</td>\n",
              "      <td>83</td>\n",
              "      <td>950</td>\n",
              "      <td>0</td>\n",
              "      <td>97</td>\n",
              "      <td>474</td>\n",
              "      <td>333</td>\n",
              "      <td>538</td>\n",
              "      <td>682</td>\n",
              "      <td>382</td>\n",
              "    </tr>\n",
              "    <tr>\n",
              "      <th>Friday</th>\n",
              "      <td>6</td>\n",
              "      <td>1518</td>\n",
              "      <td>8</td>\n",
              "      <td>0</td>\n",
              "      <td>6</td>\n",
              "      <td>48</td>\n",
              "      <td>451</td>\n",
              "      <td>44</td>\n",
              "      <td>75</td>\n",
              "      <td>8</td>\n",
              "      <td>...</td>\n",
              "      <td>68</td>\n",
              "      <td>26</td>\n",
              "      <td>612</td>\n",
              "      <td>0</td>\n",
              "      <td>21</td>\n",
              "      <td>10</td>\n",
              "      <td>1025</td>\n",
              "      <td>94</td>\n",
              "      <td>458</td>\n",
              "      <td>44</td>\n",
              "    </tr>\n",
              "    <tr>\n",
              "      <th>Saturday</th>\n",
              "      <td>126</td>\n",
              "      <td>148</td>\n",
              "      <td>20</td>\n",
              "      <td>15</td>\n",
              "      <td>104</td>\n",
              "      <td>60</td>\n",
              "      <td>532</td>\n",
              "      <td>124</td>\n",
              "      <td>46</td>\n",
              "      <td>11</td>\n",
              "      <td>...</td>\n",
              "      <td>92</td>\n",
              "      <td>241</td>\n",
              "      <td>1656</td>\n",
              "      <td>0</td>\n",
              "      <td>104</td>\n",
              "      <td>206</td>\n",
              "      <td>20</td>\n",
              "      <td>670</td>\n",
              "      <td>140</td>\n",
              "      <td>114</td>\n",
              "    </tr>\n",
              "    <tr>\n",
              "      <th>Sunday</th>\n",
              "      <td>13</td>\n",
              "      <td>132</td>\n",
              "      <td>54</td>\n",
              "      <td>0</td>\n",
              "      <td>76</td>\n",
              "      <td>22</td>\n",
              "      <td>1232</td>\n",
              "      <td>84</td>\n",
              "      <td>44</td>\n",
              "      <td>7</td>\n",
              "      <td>...</td>\n",
              "      <td>102</td>\n",
              "      <td>662</td>\n",
              "      <td>432</td>\n",
              "      <td>0</td>\n",
              "      <td>92</td>\n",
              "      <td>180</td>\n",
              "      <td>22</td>\n",
              "      <td>406</td>\n",
              "      <td>210</td>\n",
              "      <td>110</td>\n",
              "    </tr>\n",
              "  </tbody>\n",
              "</table>\n",
              "<p>7 rows × 25 columns</p>\n",
              "</div>"
            ],
            "text/plain": [
              "LocationName  Barcroft Park  Bluemont Park  Bon Air Park  Drew Center  \\\n",
              "Monday                   54           1634            42            0   \n",
              "Tuesday                 886           1642           163            0   \n",
              "Wednesday               152           1848           150            0   \n",
              "Thursday                120           1874             0            0   \n",
              "Friday                    6           1518             8            0   \n",
              "Saturday                126            148            20           15   \n",
              "Sunday                   13            132            54            0   \n",
              "\n",
              "LocationName  Fort Scott Park  Glebe Park  Greenbrier Park  Gunston Center  \\\n",
              "Monday                     18          44              450              38   \n",
              "Tuesday                   152         336              470              72   \n",
              "Wednesday                 254         454              465              42   \n",
              "Thursday                   18          60              466             158   \n",
              "Friday                      6          48              451              44   \n",
              "Saturday                  104          60              532             124   \n",
              "Sunday                     76          22             1232              84   \n",
              "\n",
              "LocationName  Hayes Park  Jamestown Park         ...          \\\n",
              "Monday              1327              29         ...           \n",
              "Tuesday              206               3         ...           \n",
              "Wednesday           1207              12         ...           \n",
              "Thursday             170               6         ...           \n",
              "Friday                75               8         ...           \n",
              "Saturday              46              11         ...           \n",
              "Sunday                44               7         ...           \n",
              "\n",
              "LocationName  Marcey Road Park  Maury Park  Quincy Park  Stratford Park  \\\n",
              "Monday                     839          28          732               0   \n",
              "Tuesday                    128          24         1014               3   \n",
              "Wednesday                  146          54         1486               0   \n",
              "Thursday                   418          83          950               0   \n",
              "Friday                      68          26          612               0   \n",
              "Saturday                    92         241         1656               0   \n",
              "Sunday                     102         662          432               0   \n",
              "\n",
              "LocationName  Thomas Jefferson Center  Towers Park  Tuckahoe Park  \\\n",
              "Monday                             43          125            305   \n",
              "Tuesday                            73           94            288   \n",
              "Wednesday                          27          127           1111   \n",
              "Thursday                           97          474            333   \n",
              "Friday                             21           10           1025   \n",
              "Saturday                          104          206             20   \n",
              "Sunday                             92          180             22   \n",
              "\n",
              "LocationName  Virginia Highlands Park  Wakefield High School  \\\n",
              "Monday                            164                    582   \n",
              "Tuesday                           196                    510   \n",
              "Wednesday                         174                    502   \n",
              "Thursday                          538                    682   \n",
              "Friday                             94                    458   \n",
              "Saturday                          670                    140   \n",
              "Sunday                            406                    210   \n",
              "\n",
              "LocationName  Walter Reed Center  \n",
              "Monday                       488  \n",
              "Tuesday                       70  \n",
              "Wednesday                    282  \n",
              "Thursday                     382  \n",
              "Friday                        44  \n",
              "Saturday                     114  \n",
              "Sunday                       110  \n",
              "\n",
              "[7 rows x 25 columns]"
            ]
          },
          "metadata": {
            "tags": []
          },
          "execution_count": 21
        }
      ]
    },
    {
      "metadata": {
        "id": "MJ-7OnzW1xc1",
        "colab_type": "code",
        "colab": {
          "base_uri": "https://localhost:8080/",
          "height": 481
        },
        "outputId": "c278fa0b-aecb-4792-efac-9ab0ec62f39c"
      },
      "cell_type": "code",
      "source": [
        "sns.heatmap(df_heat_1)"
      ],
      "execution_count": 22,
      "outputs": [
        {
          "output_type": "execute_result",
          "data": {
            "text/plain": [
              "<matplotlib.axes._subplots.AxesSubplot at 0x7fb4d68043c8>"
            ]
          },
          "metadata": {
            "tags": []
          },
          "execution_count": 22
        },
        {
          "output_type": "display_data",
          "data": {
            "image/png": "[encoded data removed]",
            "text/plain": [
              "<matplotlib.figure.Figure at 0x7fb4d687e128>"
            ]
          },
          "metadata": {
            "tags": []
          }
        }
      ]
    },
    {
      "metadata": {
        "id": "AZdtCBZRLKW-",
        "colab_type": "text"
      },
      "cell_type": "markdown",
      "source": [
        "So that's number of reservations per park.  Bluemont is getting the lion's share of the reservations... Walter Reed barely shows up in comparison.\n",
        "\n",
        "To be fair, Bluemont has more courts, so we might look at reservations per court.\n",
        "\n",
        "Having a peek at the nomenclature of one location, to see if we can extract the number of courts per location..."
      ]
    },
    {
      "metadata": {
        "id": "AUhkRN0PM0Lu",
        "colab_type": "code",
        "colab": {
          "base_uri": "https://localhost:8080/",
          "height": 204
        },
        "outputId": "b6869839-7e9d-440a-8055-73e9903a5ae6"
      },
      "cell_type": "code",
      "source": [
        "df[df.LocationName=='Bluemont Park'].FacilityName.value_counts()"
      ],
      "execution_count": 23,
      "outputs": [
        {
          "output_type": "execute_result",
          "data": {
            "text/plain": [
              "Tennis Court 1-9    4074\n",
              "Tennis Court #1      761\n",
              "Tennis Court #2      692\n",
              "Tennis Court #3      690\n",
              "Tennis Court #4      665\n",
              "Tennis Court #5      512\n",
              "Tennis Court #6      417\n",
              "Tennis Court #7      403\n",
              "Tennis Court #8      389\n",
              "Tennis Court #9      193\n",
              "Name: FacilityName, dtype: int64"
            ]
          },
          "metadata": {
            "tags": []
          },
          "execution_count": 23
        }
      ]
    },
    {
      "metadata": {
        "id": "c7B0N-vAOa0j",
        "colab_type": "text"
      },
      "cell_type": "markdown",
      "source": [
        "Okay, there's an option to reserve all courts, but we don't know if that option has been used at all locations.  Let's look at all of them:"
      ]
    },
    {
      "metadata": {
        "id": "KEJuwqN2ORia",
        "colab_type": "code",
        "colab": {
          "base_uri": "https://localhost:8080/",
          "height": 289
        },
        "outputId": "dc377b75-3d10-4d06-eb34-f81ae4e1c368"
      },
      "cell_type": "code",
      "source": [
        "df.FacilityName.value_counts()"
      ],
      "execution_count": 24,
      "outputs": [
        {
          "output_type": "execute_result",
          "data": {
            "text/plain": [
              "Tennis Court #1      9622\n",
              "Tennis Court #2      6688\n",
              "Tennis Courts 1-6    5889\n",
              "Tennis Courts 1-2    5137\n",
              "Tennis Court 1-9     4074\n",
              "Tennis Court #3      3109\n",
              "Tennis Courts 1-3    2593\n",
              "Tennis Court #4      2360\n",
              "Tennis Court #5      2231\n",
              "Tennis Court #6      1365\n",
              "Tennis Courts 1-7    1068\n",
              "Tennis Courts 1-4     997\n",
              "Tennis Court #7       573\n",
              "Tennis Court #8       389\n",
              "Tennis Court #9       193\n",
              "Name: FacilityName, dtype: int64"
            ]
          },
          "metadata": {
            "tags": []
          },
          "execution_count": 24
        }
      ]
    },
    {
      "metadata": {
        "id": "hhDaEx69P5hv",
        "colab_type": "text"
      },
      "cell_type": "markdown",
      "source": [
        "A heatmap will tell us visually if they all have the \"all courts\" option, and if it's been used for reservations.  Let's omit the 'fill_vaule=0' this time so that zeros show up as the background color."
      ]
    },
    {
      "metadata": {
        "id": "fwKQmIDHQih-",
        "colab_type": "code",
        "colab": {
          "base_uri": "https://localhost:8080/",
          "height": 481
        },
        "outputId": "42e1f745-d23f-4e17-db57-abfaea1e79de"
      },
      "cell_type": "code",
      "source": [
        "df_heat_2 = df.groupby(['FacilityName','LocationName'])['start_datetime'].count().unstack()\n",
        "sns.heatmap(df_heat_2)"
      ],
      "execution_count": 25,
      "outputs": [
        {
          "output_type": "execute_result",
          "data": {
            "text/plain": [
              "<matplotlib.axes._subplots.AxesSubplot at 0x7fb4d66b3a58>"
            ]
          },
          "metadata": {
            "tags": []
          },
          "execution_count": 25
        },
        {
          "output_type": "display_data",
          "data": {
            "image/png": "[encoded data removed]",
            "text/plain": [
              "<matplotlib.figure.Figure at 0x7fb4d66bf3c8>"
            ]
          },
          "metadata": {
            "tags": []
          }
        }
      ]
    },
    {
      "metadata": {
        "id": "kokdfE3bVtbJ",
        "colab_type": "text"
      },
      "cell_type": "markdown",
      "source": [
        "Okay, every court has at least one \"reserve all courts\" reservation in the dataset except 'Langston Brown Center', which only has one court... we'll just code that one by hand at the end.\n",
        "\n",
        "We also see that Bluemont and Quincy \"all courts\" are by far the most common reservation.\n",
        "\n",
        "We'll need to know how many courts are at each location. There are many ways to pull the values out of this dataframe.  Let's see if we can count non-empty values."
      ]
    },
    {
      "metadata": {
        "id": "ZzUrQY7PXbTz",
        "colab_type": "code",
        "colab": {
          "base_uri": "https://localhost:8080/",
          "height": 34
        },
        "outputId": "54ec75e4-b142-434d-a12f-cb249ac40ec7"
      },
      "cell_type": "code",
      "source": [
        "df_heat_2['Barcroft Park'].notnull().sum()"
      ],
      "execution_count": 26,
      "outputs": [
        {
          "output_type": "execute_result",
          "data": {
            "text/plain": [
              "3"
            ]
          },
          "metadata": {
            "tags": []
          },
          "execution_count": 26
        }
      ]
    },
    {
      "metadata": {
        "id": "LA1UnL92vnIc",
        "colab_type": "text"
      },
      "cell_type": "markdown",
      "source": [
        "Okay, looks like that'll work.  Applyling to the whole dataframe, and subtracting 1 (the \"reserve all courts\" option)."
      ]
    },
    {
      "metadata": {
        "id": "rAtHRHaxvU3y",
        "colab_type": "code",
        "colab": {
          "base_uri": "https://localhost:8080/",
          "height": 476
        },
        "outputId": "a2ffb9be-c8b1-4f23-8016-4f8d1be516d4"
      },
      "cell_type": "code",
      "source": [
        "number_of_courts = df_heat_2.notnull().sum(axis=0) - 1\n",
        "number_of_courts['Langston Brown Center'] = 1\n",
        "number_of_courts"
      ],
      "execution_count": 27,
      "outputs": [
        {
          "output_type": "execute_result",
          "data": {
            "text/plain": [
              "LocationName\n",
              "Barcroft Park              2\n",
              "Bluemont Park              9\n",
              "Bon Air Park               2\n",
              "Drew Center                2\n",
              "Fort Scott Park            3\n",
              "Glebe Park                 3\n",
              "Greenbrier Park            6\n",
              "Gunston Center             3\n",
              "Hayes Park                 2\n",
              "Jamestown Park             2\n",
              "Jennie Dean Park           2\n",
              "Kenmore Middle School      4\n",
              "Langston Brown Center      1\n",
              "Lyon Village Park          2\n",
              "Madison Manor Park         2\n",
              "Marcey Road Park           3\n",
              "Maury Park                 2\n",
              "Quincy Park                6\n",
              "Stratford Park             2\n",
              "Thomas Jefferson Center    4\n",
              "Towers Park                4\n",
              "Tuckahoe Park              2\n",
              "Virginia Highlands Park    6\n",
              "Wakefield High School      7\n",
              "Walter Reed Center         3\n",
              "dtype: int64"
            ]
          },
          "metadata": {
            "tags": []
          },
          "execution_count": 27
        }
      ]
    },
    {
      "metadata": {
        "id": "IEfi5SFb-hoG",
        "colab_type": "text"
      },
      "cell_type": "markdown",
      "source": [
        "Although this is a useful intermendate for calculating reservations per court, it also lets us calculate the total number of reservable courts in Arlington:"
      ]
    },
    {
      "metadata": {
        "id": "3lsB8AQ3-wPk",
        "colab_type": "code",
        "colab": {
          "base_uri": "https://localhost:8080/",
          "height": 34
        },
        "outputId": "d4c60240-11ea-4893-c8d7-ed6dbc239bdd"
      },
      "cell_type": "code",
      "source": [
        "number_of_courts.sum()"
      ],
      "execution_count": 28,
      "outputs": [
        {
          "output_type": "execute_result",
          "data": {
            "text/plain": [
              "84"
            ]
          },
          "metadata": {
            "tags": []
          },
          "execution_count": 28
        }
      ]
    },
    {
      "metadata": {
        "id": "e-hQ7bKWxir1",
        "colab_type": "text"
      },
      "cell_type": "markdown",
      "source": [
        "The beauty of matrix math:"
      ]
    },
    {
      "metadata": {
        "id": "1s0ZtK8O1UXc",
        "colab_type": "code",
        "colab": {
          "base_uri": "https://localhost:8080/",
          "height": 349
        },
        "outputId": "0200792d-43af-4285-c6a8-6e7863a3aeb6"
      },
      "cell_type": "code",
      "source": [
        "df_heat_1 / number_of_courts"
      ],
      "execution_count": 29,
      "outputs": [
        {
          "output_type": "execute_result",
          "data": {
            "text/html": [
              "<div>\n",
              "<style scoped>\n",
              "    .dataframe tbody tr th:only-of-type {\n",
              "        vertical-align: middle;\n",
              "    }\n",
              "\n",
              "    .dataframe tbody tr th {\n",
              "        vertical-align: top;\n",
              "    }\n",
              "\n",
              "    .dataframe thead th {\n",
              "        text-align: right;\n",
              "    }\n",
              "</style>\n",
              "<table border=\"1\" class=\"dataframe\">\n",
              "  <thead>\n",
              "    <tr style=\"text-align: right;\">\n",
              "      <th>LocationName</th>\n",
              "      <th>Barcroft Park</th>\n",
              "      <th>Bluemont Park</th>\n",
              "      <th>Bon Air Park</th>\n",
              "      <th>Drew Center</th>\n",
              "      <th>Fort Scott Park</th>\n",
              "      <th>Glebe Park</th>\n",
              "      <th>Greenbrier Park</th>\n",
              "      <th>Gunston Center</th>\n",
              "      <th>Hayes Park</th>\n",
              "      <th>Jamestown Park</th>\n",
              "      <th>...</th>\n",
              "      <th>Marcey Road Park</th>\n",
              "      <th>Maury Park</th>\n",
              "      <th>Quincy Park</th>\n",
              "      <th>Stratford Park</th>\n",
              "      <th>Thomas Jefferson Center</th>\n",
              "      <th>Towers Park</th>\n",
              "      <th>Tuckahoe Park</th>\n",
              "      <th>Virginia Highlands Park</th>\n",
              "      <th>Wakefield High School</th>\n",
              "      <th>Walter Reed Center</th>\n",
              "    </tr>\n",
              "  </thead>\n",
              "  <tbody>\n",
              "    <tr>\n",
              "      <th>Monday</th>\n",
              "      <td>27.0</td>\n",
              "      <td>181.555556</td>\n",
              "      <td>21.0</td>\n",
              "      <td>0.0</td>\n",
              "      <td>6.000000</td>\n",
              "      <td>14.666667</td>\n",
              "      <td>75.000000</td>\n",
              "      <td>12.666667</td>\n",
              "      <td>663.5</td>\n",
              "      <td>14.5</td>\n",
              "      <td>...</td>\n",
              "      <td>279.666667</td>\n",
              "      <td>14.0</td>\n",
              "      <td>122.000000</td>\n",
              "      <td>0.0</td>\n",
              "      <td>10.75</td>\n",
              "      <td>31.25</td>\n",
              "      <td>152.5</td>\n",
              "      <td>27.333333</td>\n",
              "      <td>83.142857</td>\n",
              "      <td>162.666667</td>\n",
              "    </tr>\n",
              "    <tr>\n",
              "      <th>Tuesday</th>\n",
              "      <td>443.0</td>\n",
              "      <td>182.444444</td>\n",
              "      <td>81.5</td>\n",
              "      <td>0.0</td>\n",
              "      <td>50.666667</td>\n",
              "      <td>112.000000</td>\n",
              "      <td>78.333333</td>\n",
              "      <td>24.000000</td>\n",
              "      <td>103.0</td>\n",
              "      <td>1.5</td>\n",
              "      <td>...</td>\n",
              "      <td>42.666667</td>\n",
              "      <td>12.0</td>\n",
              "      <td>169.000000</td>\n",
              "      <td>1.5</td>\n",
              "      <td>18.25</td>\n",
              "      <td>23.50</td>\n",
              "      <td>144.0</td>\n",
              "      <td>32.666667</td>\n",
              "      <td>72.857143</td>\n",
              "      <td>23.333333</td>\n",
              "    </tr>\n",
              "    <tr>\n",
              "      <th>Wednesday</th>\n",
              "      <td>76.0</td>\n",
              "      <td>205.333333</td>\n",
              "      <td>75.0</td>\n",
              "      <td>0.0</td>\n",
              "      <td>84.666667</td>\n",
              "      <td>151.333333</td>\n",
              "      <td>77.500000</td>\n",
              "      <td>14.000000</td>\n",
              "      <td>603.5</td>\n",
              "      <td>6.0</td>\n",
              "      <td>...</td>\n",
              "      <td>48.666667</td>\n",
              "      <td>27.0</td>\n",
              "      <td>247.666667</td>\n",
              "      <td>0.0</td>\n",
              "      <td>6.75</td>\n",
              "      <td>31.75</td>\n",
              "      <td>555.5</td>\n",
              "      <td>29.000000</td>\n",
              "      <td>71.714286</td>\n",
              "      <td>94.000000</td>\n",
              "    </tr>\n",
              "    <tr>\n",
              "      <th>Thursday</th>\n",
              "      <td>60.0</td>\n",
              "      <td>208.222222</td>\n",
              "      <td>0.0</td>\n",
              "      <td>0.0</td>\n",
              "      <td>6.000000</td>\n",
              "      <td>20.000000</td>\n",
              "      <td>77.666667</td>\n",
              "      <td>52.666667</td>\n",
              "      <td>85.0</td>\n",
              "      <td>3.0</td>\n",
              "      <td>...</td>\n",
              "      <td>139.333333</td>\n",
              "      <td>41.5</td>\n",
              "      <td>158.333333</td>\n",
              "      <td>0.0</td>\n",
              "      <td>24.25</td>\n",
              "      <td>118.50</td>\n",
              "      <td>166.5</td>\n",
              "      <td>89.666667</td>\n",
              "      <td>97.428571</td>\n",
              "      <td>127.333333</td>\n",
              "    </tr>\n",
              "    <tr>\n",
              "      <th>Friday</th>\n",
              "      <td>3.0</td>\n",
              "      <td>168.666667</td>\n",
              "      <td>4.0</td>\n",
              "      <td>0.0</td>\n",
              "      <td>2.000000</td>\n",
              "      <td>16.000000</td>\n",
              "      <td>75.166667</td>\n",
              "      <td>14.666667</td>\n",
              "      <td>37.5</td>\n",
              "      <td>4.0</td>\n",
              "      <td>...</td>\n",
              "      <td>22.666667</td>\n",
              "      <td>13.0</td>\n",
              "      <td>102.000000</td>\n",
              "      <td>0.0</td>\n",
              "      <td>5.25</td>\n",
              "      <td>2.50</td>\n",
              "      <td>512.5</td>\n",
              "      <td>15.666667</td>\n",
              "      <td>65.428571</td>\n",
              "      <td>14.666667</td>\n",
              "    </tr>\n",
              "    <tr>\n",
              "      <th>Saturday</th>\n",
              "      <td>63.0</td>\n",
              "      <td>16.444444</td>\n",
              "      <td>10.0</td>\n",
              "      <td>7.5</td>\n",
              "      <td>34.666667</td>\n",
              "      <td>20.000000</td>\n",
              "      <td>88.666667</td>\n",
              "      <td>41.333333</td>\n",
              "      <td>23.0</td>\n",
              "      <td>5.5</td>\n",
              "      <td>...</td>\n",
              "      <td>30.666667</td>\n",
              "      <td>120.5</td>\n",
              "      <td>276.000000</td>\n",
              "      <td>0.0</td>\n",
              "      <td>26.00</td>\n",
              "      <td>51.50</td>\n",
              "      <td>10.0</td>\n",
              "      <td>111.666667</td>\n",
              "      <td>20.000000</td>\n",
              "      <td>38.000000</td>\n",
              "    </tr>\n",
              "    <tr>\n",
              "      <th>Sunday</th>\n",
              "      <td>6.5</td>\n",
              "      <td>14.666667</td>\n",
              "      <td>27.0</td>\n",
              "      <td>0.0</td>\n",
              "      <td>25.333333</td>\n",
              "      <td>7.333333</td>\n",
              "      <td>205.333333</td>\n",
              "      <td>28.000000</td>\n",
              "      <td>22.0</td>\n",
              "      <td>3.5</td>\n",
              "      <td>...</td>\n",
              "      <td>34.000000</td>\n",
              "      <td>331.0</td>\n",
              "      <td>72.000000</td>\n",
              "      <td>0.0</td>\n",
              "      <td>23.00</td>\n",
              "      <td>45.00</td>\n",
              "      <td>11.0</td>\n",
              "      <td>67.666667</td>\n",
              "      <td>30.000000</td>\n",
              "      <td>36.666667</td>\n",
              "    </tr>\n",
              "  </tbody>\n",
              "</table>\n",
              "<p>7 rows × 25 columns</p>\n",
              "</div>"
            ],
            "text/plain": [
              "LocationName  Barcroft Park  Bluemont Park  Bon Air Park  Drew Center  \\\n",
              "Monday                 27.0     181.555556          21.0          0.0   \n",
              "Tuesday               443.0     182.444444          81.5          0.0   \n",
              "Wednesday              76.0     205.333333          75.0          0.0   \n",
              "Thursday               60.0     208.222222           0.0          0.0   \n",
              "Friday                  3.0     168.666667           4.0          0.0   \n",
              "Saturday               63.0      16.444444          10.0          7.5   \n",
              "Sunday                  6.5      14.666667          27.0          0.0   \n",
              "\n",
              "LocationName  Fort Scott Park  Glebe Park  Greenbrier Park  Gunston Center  \\\n",
              "Monday               6.000000   14.666667        75.000000       12.666667   \n",
              "Tuesday             50.666667  112.000000        78.333333       24.000000   \n",
              "Wednesday           84.666667  151.333333        77.500000       14.000000   \n",
              "Thursday             6.000000   20.000000        77.666667       52.666667   \n",
              "Friday               2.000000   16.000000        75.166667       14.666667   \n",
              "Saturday            34.666667   20.000000        88.666667       41.333333   \n",
              "Sunday              25.333333    7.333333       205.333333       28.000000   \n",
              "\n",
              "LocationName  Hayes Park  Jamestown Park         ...          \\\n",
              "Monday             663.5            14.5         ...           \n",
              "Tuesday            103.0             1.5         ...           \n",
              "Wednesday          603.5             6.0         ...           \n",
              "Thursday            85.0             3.0         ...           \n",
              "Friday              37.5             4.0         ...           \n",
              "Saturday            23.0             5.5         ...           \n",
              "Sunday              22.0             3.5         ...           \n",
              "\n",
              "LocationName  Marcey Road Park  Maury Park  Quincy Park  Stratford Park  \\\n",
              "Monday              279.666667        14.0   122.000000             0.0   \n",
              "Tuesday              42.666667        12.0   169.000000             1.5   \n",
              "Wednesday            48.666667        27.0   247.666667             0.0   \n",
              "Thursday            139.333333        41.5   158.333333             0.0   \n",
              "Friday               22.666667        13.0   102.000000             0.0   \n",
              "Saturday             30.666667       120.5   276.000000             0.0   \n",
              "Sunday               34.000000       331.0    72.000000             0.0   \n",
              "\n",
              "LocationName  Thomas Jefferson Center  Towers Park  Tuckahoe Park  \\\n",
              "Monday                          10.75        31.25          152.5   \n",
              "Tuesday                         18.25        23.50          144.0   \n",
              "Wednesday                        6.75        31.75          555.5   \n",
              "Thursday                        24.25       118.50          166.5   \n",
              "Friday                           5.25         2.50          512.5   \n",
              "Saturday                        26.00        51.50           10.0   \n",
              "Sunday                          23.00        45.00           11.0   \n",
              "\n",
              "LocationName  Virginia Highlands Park  Wakefield High School  \\\n",
              "Monday                      27.333333              83.142857   \n",
              "Tuesday                     32.666667              72.857143   \n",
              "Wednesday                   29.000000              71.714286   \n",
              "Thursday                    89.666667              97.428571   \n",
              "Friday                      15.666667              65.428571   \n",
              "Saturday                   111.666667              20.000000   \n",
              "Sunday                      67.666667              30.000000   \n",
              "\n",
              "LocationName  Walter Reed Center  \n",
              "Monday                162.666667  \n",
              "Tuesday                23.333333  \n",
              "Wednesday              94.000000  \n",
              "Thursday              127.333333  \n",
              "Friday                 14.666667  \n",
              "Saturday               38.000000  \n",
              "Sunday                 36.666667  \n",
              "\n",
              "[7 rows x 25 columns]"
            ]
          },
          "metadata": {
            "tags": []
          },
          "execution_count": 29
        }
      ]
    },
    {
      "metadata": {
        "id": "2R4YHeAZ1-0V",
        "colab_type": "text"
      },
      "cell_type": "markdown",
      "source": [
        "Looks like it's working... but wait, it just occurred to me that we need to count a reservation of courts 1-6 as 6 reservations (not just one reservation) when calculating reservations per court.\n",
        "\n",
        "Hmmm... okay, here's how I'll tackle it.  I'll re-run the whole groupby/count/unstack twice: once on the rows where there's just one court being reserved, and once on the rows where all courts are being reserved.\n",
        "\n",
        "I.e.: choose all rows where column 'Facility Name' contains '#' gives us single court reservations.\n",
        "\n",
        "And choose all rows where column 'Facility Name' contains '-' gives us reservations where  all courts are reserved at once.\n",
        "\n",
        "(Let's make sure our selection works first.)"
      ]
    },
    {
      "metadata": {
        "id": "G3Zu6xxpHAI1",
        "colab_type": "code",
        "colab": {
          "base_uri": "https://localhost:8080/",
          "height": 187
        },
        "outputId": "46ea17f7-e320-4160-cedd-d88c01ea7da7"
      },
      "cell_type": "code",
      "source": [
        "df[df['FacilityName'].str.contains(\"#\")].FacilityName.value_counts()"
      ],
      "execution_count": 30,
      "outputs": [
        {
          "output_type": "execute_result",
          "data": {
            "text/plain": [
              "Tennis Court #1    9622\n",
              "Tennis Court #2    6688\n",
              "Tennis Court #3    3109\n",
              "Tennis Court #4    2360\n",
              "Tennis Court #5    2231\n",
              "Tennis Court #6    1365\n",
              "Tennis Court #7     573\n",
              "Tennis Court #8     389\n",
              "Tennis Court #9     193\n",
              "Name: FacilityName, dtype: int64"
            ]
          },
          "metadata": {
            "tags": []
          },
          "execution_count": 30
        }
      ]
    },
    {
      "metadata": {
        "id": "vxiGJE5U_Vfa",
        "colab_type": "code",
        "colab": {}
      },
      "cell_type": "code",
      "source": [
        "df_heat_1_single_courts = df[df['FacilityName'].str.contains(\"#\")].groupby(['day_of_the_week','LocationName'])['start_datetime'].count().unstack(fill_value=0)"
      ],
      "execution_count": 0,
      "outputs": []
    },
    {
      "metadata": {
        "id": "CFBP9jVGFvrO",
        "colab_type": "code",
        "colab": {
          "base_uri": "https://localhost:8080/",
          "height": 380
        },
        "outputId": "f33d4a22-d4e4-4b64-96c8-2ba2abaddfee"
      },
      "cell_type": "code",
      "source": [
        "df_heat_1_single_courts"
      ],
      "execution_count": 32,
      "outputs": [
        {
          "output_type": "execute_result",
          "data": {
            "text/html": [
              "<div>\n",
              "<style scoped>\n",
              "    .dataframe tbody tr th:only-of-type {\n",
              "        vertical-align: middle;\n",
              "    }\n",
              "\n",
              "    .dataframe tbody tr th {\n",
              "        vertical-align: top;\n",
              "    }\n",
              "\n",
              "    .dataframe thead th {\n",
              "        text-align: right;\n",
              "    }\n",
              "</style>\n",
              "<table border=\"1\" class=\"dataframe\">\n",
              "  <thead>\n",
              "    <tr style=\"text-align: right;\">\n",
              "      <th>LocationName</th>\n",
              "      <th>Barcroft Park</th>\n",
              "      <th>Bluemont Park</th>\n",
              "      <th>Bon Air Park</th>\n",
              "      <th>Drew Center</th>\n",
              "      <th>Fort Scott Park</th>\n",
              "      <th>Glebe Park</th>\n",
              "      <th>Greenbrier Park</th>\n",
              "      <th>Gunston Center</th>\n",
              "      <th>Hayes Park</th>\n",
              "      <th>Jamestown Park</th>\n",
              "      <th>...</th>\n",
              "      <th>Marcey Road Park</th>\n",
              "      <th>Maury Park</th>\n",
              "      <th>Quincy Park</th>\n",
              "      <th>Stratford Park</th>\n",
              "      <th>Thomas Jefferson Center</th>\n",
              "      <th>Towers Park</th>\n",
              "      <th>Tuckahoe Park</th>\n",
              "      <th>Virginia Highlands Park</th>\n",
              "      <th>Wakefield High School</th>\n",
              "      <th>Walter Reed Center</th>\n",
              "    </tr>\n",
              "    <tr>\n",
              "      <th>day_of_the_week</th>\n",
              "      <th></th>\n",
              "      <th></th>\n",
              "      <th></th>\n",
              "      <th></th>\n",
              "      <th></th>\n",
              "      <th></th>\n",
              "      <th></th>\n",
              "      <th></th>\n",
              "      <th></th>\n",
              "      <th></th>\n",
              "      <th></th>\n",
              "      <th></th>\n",
              "      <th></th>\n",
              "      <th></th>\n",
              "      <th></th>\n",
              "      <th></th>\n",
              "      <th></th>\n",
              "      <th></th>\n",
              "      <th></th>\n",
              "      <th></th>\n",
              "      <th></th>\n",
              "    </tr>\n",
              "  </thead>\n",
              "  <tbody>\n",
              "    <tr>\n",
              "      <th>Friday</th>\n",
              "      <td>3</td>\n",
              "      <td>807</td>\n",
              "      <td>4</td>\n",
              "      <td>0</td>\n",
              "      <td>3</td>\n",
              "      <td>28</td>\n",
              "      <td>303</td>\n",
              "      <td>24</td>\n",
              "      <td>43</td>\n",
              "      <td>5</td>\n",
              "      <td>...</td>\n",
              "      <td>34</td>\n",
              "      <td>14</td>\n",
              "      <td>361</td>\n",
              "      <td>0</td>\n",
              "      <td>15</td>\n",
              "      <td>5</td>\n",
              "      <td>605</td>\n",
              "      <td>47</td>\n",
              "      <td>307</td>\n",
              "      <td>27</td>\n",
              "    </tr>\n",
              "    <tr>\n",
              "      <th>Monday</th>\n",
              "      <td>27</td>\n",
              "      <td>869</td>\n",
              "      <td>21</td>\n",
              "      <td>0</td>\n",
              "      <td>9</td>\n",
              "      <td>26</td>\n",
              "      <td>300</td>\n",
              "      <td>21</td>\n",
              "      <td>863</td>\n",
              "      <td>15</td>\n",
              "      <td>...</td>\n",
              "      <td>454</td>\n",
              "      <td>15</td>\n",
              "      <td>413</td>\n",
              "      <td>0</td>\n",
              "      <td>26</td>\n",
              "      <td>85</td>\n",
              "      <td>170</td>\n",
              "      <td>82</td>\n",
              "      <td>393</td>\n",
              "      <td>249</td>\n",
              "    </tr>\n",
              "    <tr>\n",
              "      <th>Saturday</th>\n",
              "      <td>71</td>\n",
              "      <td>74</td>\n",
              "      <td>10</td>\n",
              "      <td>8</td>\n",
              "      <td>52</td>\n",
              "      <td>30</td>\n",
              "      <td>266</td>\n",
              "      <td>64</td>\n",
              "      <td>23</td>\n",
              "      <td>6</td>\n",
              "      <td>...</td>\n",
              "      <td>46</td>\n",
              "      <td>141</td>\n",
              "      <td>828</td>\n",
              "      <td>0</td>\n",
              "      <td>55</td>\n",
              "      <td>103</td>\n",
              "      <td>10</td>\n",
              "      <td>335</td>\n",
              "      <td>73</td>\n",
              "      <td>58</td>\n",
              "    </tr>\n",
              "    <tr>\n",
              "      <th>Sunday</th>\n",
              "      <td>7</td>\n",
              "      <td>66</td>\n",
              "      <td>27</td>\n",
              "      <td>0</td>\n",
              "      <td>38</td>\n",
              "      <td>11</td>\n",
              "      <td>684</td>\n",
              "      <td>44</td>\n",
              "      <td>22</td>\n",
              "      <td>4</td>\n",
              "      <td>...</td>\n",
              "      <td>51</td>\n",
              "      <td>384</td>\n",
              "      <td>226</td>\n",
              "      <td>0</td>\n",
              "      <td>49</td>\n",
              "      <td>90</td>\n",
              "      <td>11</td>\n",
              "      <td>203</td>\n",
              "      <td>120</td>\n",
              "      <td>56</td>\n",
              "    </tr>\n",
              "    <tr>\n",
              "      <th>Thursday</th>\n",
              "      <td>60</td>\n",
              "      <td>1025</td>\n",
              "      <td>0</td>\n",
              "      <td>0</td>\n",
              "      <td>9</td>\n",
              "      <td>34</td>\n",
              "      <td>313</td>\n",
              "      <td>81</td>\n",
              "      <td>97</td>\n",
              "      <td>4</td>\n",
              "      <td>...</td>\n",
              "      <td>241</td>\n",
              "      <td>50</td>\n",
              "      <td>525</td>\n",
              "      <td>0</td>\n",
              "      <td>56</td>\n",
              "      <td>246</td>\n",
              "      <td>182</td>\n",
              "      <td>267</td>\n",
              "      <td>452</td>\n",
              "      <td>215</td>\n",
              "    </tr>\n",
              "    <tr>\n",
              "      <th>Tuesday</th>\n",
              "      <td>530</td>\n",
              "      <td>897</td>\n",
              "      <td>92</td>\n",
              "      <td>0</td>\n",
              "      <td>76</td>\n",
              "      <td>172</td>\n",
              "      <td>310</td>\n",
              "      <td>40</td>\n",
              "      <td>121</td>\n",
              "      <td>2</td>\n",
              "      <td>...</td>\n",
              "      <td>64</td>\n",
              "      <td>13</td>\n",
              "      <td>560</td>\n",
              "      <td>2</td>\n",
              "      <td>44</td>\n",
              "      <td>47</td>\n",
              "      <td>160</td>\n",
              "      <td>98</td>\n",
              "      <td>339</td>\n",
              "      <td>49</td>\n",
              "    </tr>\n",
              "    <tr>\n",
              "      <th>Wednesday</th>\n",
              "      <td>84</td>\n",
              "      <td>984</td>\n",
              "      <td>85</td>\n",
              "      <td>0</td>\n",
              "      <td>127</td>\n",
              "      <td>231</td>\n",
              "      <td>305</td>\n",
              "      <td>23</td>\n",
              "      <td>771</td>\n",
              "      <td>7</td>\n",
              "      <td>...</td>\n",
              "      <td>73</td>\n",
              "      <td>28</td>\n",
              "      <td>788</td>\n",
              "      <td>0</td>\n",
              "      <td>18</td>\n",
              "      <td>74</td>\n",
              "      <td>710</td>\n",
              "      <td>87</td>\n",
              "      <td>332</td>\n",
              "      <td>144</td>\n",
              "    </tr>\n",
              "  </tbody>\n",
              "</table>\n",
              "<p>7 rows × 25 columns</p>\n",
              "</div>"
            ],
            "text/plain": [
              "LocationName     Barcroft Park  Bluemont Park  Bon Air Park  Drew Center  \\\n",
              "day_of_the_week                                                            \n",
              "Friday                       3            807             4            0   \n",
              "Monday                      27            869            21            0   \n",
              "Saturday                    71             74            10            8   \n",
              "Sunday                       7             66            27            0   \n",
              "Thursday                    60           1025             0            0   \n",
              "Tuesday                    530            897            92            0   \n",
              "Wednesday                   84            984            85            0   \n",
              "\n",
              "LocationName     Fort Scott Park  Glebe Park  Greenbrier Park  Gunston Center  \\\n",
              "day_of_the_week                                                                 \n",
              "Friday                         3          28              303              24   \n",
              "Monday                         9          26              300              21   \n",
              "Saturday                      52          30              266              64   \n",
              "Sunday                        38          11              684              44   \n",
              "Thursday                       9          34              313              81   \n",
              "Tuesday                       76         172              310              40   \n",
              "Wednesday                    127         231              305              23   \n",
              "\n",
              "LocationName     Hayes Park  Jamestown Park         ...          \\\n",
              "day_of_the_week                                     ...           \n",
              "Friday                   43               5         ...           \n",
              "Monday                  863              15         ...           \n",
              "Saturday                 23               6         ...           \n",
              "Sunday                   22               4         ...           \n",
              "Thursday                 97               4         ...           \n",
              "Tuesday                 121               2         ...           \n",
              "Wednesday               771               7         ...           \n",
              "\n",
              "LocationName     Marcey Road Park  Maury Park  Quincy Park  Stratford Park  \\\n",
              "day_of_the_week                                                              \n",
              "Friday                         34          14          361               0   \n",
              "Monday                        454          15          413               0   \n",
              "Saturday                       46         141          828               0   \n",
              "Sunday                         51         384          226               0   \n",
              "Thursday                      241          50          525               0   \n",
              "Tuesday                        64          13          560               2   \n",
              "Wednesday                      73          28          788               0   \n",
              "\n",
              "LocationName     Thomas Jefferson Center  Towers Park  Tuckahoe Park  \\\n",
              "day_of_the_week                                                        \n",
              "Friday                                15            5            605   \n",
              "Monday                                26           85            170   \n",
              "Saturday                              55          103             10   \n",
              "Sunday                                49           90             11   \n",
              "Thursday                              56          246            182   \n",
              "Tuesday                               44           47            160   \n",
              "Wednesday                             18           74            710   \n",
              "\n",
              "LocationName     Virginia Highlands Park  Wakefield High School  \\\n",
              "day_of_the_week                                                   \n",
              "Friday                                47                    307   \n",
              "Monday                                82                    393   \n",
              "Saturday                             335                     73   \n",
              "Sunday                               203                    120   \n",
              "Thursday                             267                    452   \n",
              "Tuesday                               98                    339   \n",
              "Wednesday                             87                    332   \n",
              "\n",
              "LocationName     Walter Reed Center  \n",
              "day_of_the_week                      \n",
              "Friday                           27  \n",
              "Monday                          249  \n",
              "Saturday                         58  \n",
              "Sunday                           56  \n",
              "Thursday                        215  \n",
              "Tuesday                          49  \n",
              "Wednesday                       144  \n",
              "\n",
              "[7 rows x 25 columns]"
            ]
          },
          "metadata": {
            "tags": []
          },
          "execution_count": 32
        }
      ]
    },
    {
      "metadata": {
        "id": "tE5WlopRHYhr",
        "colab_type": "code",
        "colab": {
          "base_uri": "https://localhost:8080/",
          "height": 136
        },
        "outputId": "e4454ca3-731b-4723-a546-76a76bd1ed06"
      },
      "cell_type": "code",
      "source": [
        "df[df['FacilityName'].str.contains(\"-\")].FacilityName.value_counts()"
      ],
      "execution_count": 33,
      "outputs": [
        {
          "output_type": "execute_result",
          "data": {
            "text/plain": [
              "Tennis Courts 1-6    5889\n",
              "Tennis Courts 1-2    5137\n",
              "Tennis Court 1-9     4074\n",
              "Tennis Courts 1-3    2593\n",
              "Tennis Courts 1-7    1068\n",
              "Tennis Courts 1-4     997\n",
              "Name: FacilityName, dtype: int64"
            ]
          },
          "metadata": {
            "tags": []
          },
          "execution_count": 33
        }
      ]
    },
    {
      "metadata": {
        "id": "jFSJEuTf_VSr",
        "colab_type": "code",
        "colab": {}
      },
      "cell_type": "code",
      "source": [
        "df_heat_1_all_courts_at_once = df[df['FacilityName'].str.contains(\"-\")].groupby(['day_of_the_week','LocationName'])['start_datetime'].count().unstack(fill_value=0)"
      ],
      "execution_count": 0,
      "outputs": []
    },
    {
      "metadata": {
        "id": "oQhGC48Q4NpZ",
        "colab_type": "text"
      },
      "cell_type": "markdown",
      "source": [
        "Oh, yes, and let's add a value for 'Langston Brown Center' by hand since none of the datapoints contains \"-\", thus there will be no entry."
      ]
    },
    {
      "metadata": {
        "id": "D7euyuhi4lTI",
        "colab_type": "code",
        "colab": {}
      },
      "cell_type": "code",
      "source": [
        "df_heat_1_all_courts_at_once['Langston Brown Center'] = 0"
      ],
      "execution_count": 0,
      "outputs": []
    },
    {
      "metadata": {
        "id": "6GJosXL2GDkk",
        "colab_type": "code",
        "colab": {
          "base_uri": "https://localhost:8080/",
          "height": 380
        },
        "outputId": "245ab6e8-a8fe-4d00-cda5-5c9f54339b9f"
      },
      "cell_type": "code",
      "source": [
        "df_heat_1_all_courts_at_once"
      ],
      "execution_count": 36,
      "outputs": [
        {
          "output_type": "execute_result",
          "data": {
            "text/html": [
              "<div>\n",
              "<style scoped>\n",
              "    .dataframe tbody tr th:only-of-type {\n",
              "        vertical-align: middle;\n",
              "    }\n",
              "\n",
              "    .dataframe tbody tr th {\n",
              "        vertical-align: top;\n",
              "    }\n",
              "\n",
              "    .dataframe thead th {\n",
              "        text-align: right;\n",
              "    }\n",
              "</style>\n",
              "<table border=\"1\" class=\"dataframe\">\n",
              "  <thead>\n",
              "    <tr style=\"text-align: right;\">\n",
              "      <th>LocationName</th>\n",
              "      <th>Barcroft Park</th>\n",
              "      <th>Bluemont Park</th>\n",
              "      <th>Bon Air Park</th>\n",
              "      <th>Drew Center</th>\n",
              "      <th>Fort Scott Park</th>\n",
              "      <th>Glebe Park</th>\n",
              "      <th>Greenbrier Park</th>\n",
              "      <th>Gunston Center</th>\n",
              "      <th>Hayes Park</th>\n",
              "      <th>Jamestown Park</th>\n",
              "      <th>...</th>\n",
              "      <th>Maury Park</th>\n",
              "      <th>Quincy Park</th>\n",
              "      <th>Stratford Park</th>\n",
              "      <th>Thomas Jefferson Center</th>\n",
              "      <th>Towers Park</th>\n",
              "      <th>Tuckahoe Park</th>\n",
              "      <th>Virginia Highlands Park</th>\n",
              "      <th>Wakefield High School</th>\n",
              "      <th>Walter Reed Center</th>\n",
              "      <th>Langston Brown Center</th>\n",
              "    </tr>\n",
              "    <tr>\n",
              "      <th>day_of_the_week</th>\n",
              "      <th></th>\n",
              "      <th></th>\n",
              "      <th></th>\n",
              "      <th></th>\n",
              "      <th></th>\n",
              "      <th></th>\n",
              "      <th></th>\n",
              "      <th></th>\n",
              "      <th></th>\n",
              "      <th></th>\n",
              "      <th></th>\n",
              "      <th></th>\n",
              "      <th></th>\n",
              "      <th></th>\n",
              "      <th></th>\n",
              "      <th></th>\n",
              "      <th></th>\n",
              "      <th></th>\n",
              "      <th></th>\n",
              "      <th></th>\n",
              "      <th></th>\n",
              "    </tr>\n",
              "  </thead>\n",
              "  <tbody>\n",
              "    <tr>\n",
              "      <th>Friday</th>\n",
              "      <td>3</td>\n",
              "      <td>711</td>\n",
              "      <td>4</td>\n",
              "      <td>0</td>\n",
              "      <td>3</td>\n",
              "      <td>20</td>\n",
              "      <td>148</td>\n",
              "      <td>20</td>\n",
              "      <td>32</td>\n",
              "      <td>3</td>\n",
              "      <td>...</td>\n",
              "      <td>12</td>\n",
              "      <td>251</td>\n",
              "      <td>0</td>\n",
              "      <td>6</td>\n",
              "      <td>5</td>\n",
              "      <td>420</td>\n",
              "      <td>47</td>\n",
              "      <td>151</td>\n",
              "      <td>17</td>\n",
              "      <td>0</td>\n",
              "    </tr>\n",
              "    <tr>\n",
              "      <th>Monday</th>\n",
              "      <td>27</td>\n",
              "      <td>765</td>\n",
              "      <td>21</td>\n",
              "      <td>0</td>\n",
              "      <td>9</td>\n",
              "      <td>18</td>\n",
              "      <td>150</td>\n",
              "      <td>17</td>\n",
              "      <td>464</td>\n",
              "      <td>14</td>\n",
              "      <td>...</td>\n",
              "      <td>13</td>\n",
              "      <td>319</td>\n",
              "      <td>0</td>\n",
              "      <td>17</td>\n",
              "      <td>40</td>\n",
              "      <td>135</td>\n",
              "      <td>82</td>\n",
              "      <td>189</td>\n",
              "      <td>239</td>\n",
              "      <td>0</td>\n",
              "    </tr>\n",
              "    <tr>\n",
              "      <th>Saturday</th>\n",
              "      <td>55</td>\n",
              "      <td>74</td>\n",
              "      <td>10</td>\n",
              "      <td>7</td>\n",
              "      <td>52</td>\n",
              "      <td>30</td>\n",
              "      <td>266</td>\n",
              "      <td>60</td>\n",
              "      <td>23</td>\n",
              "      <td>5</td>\n",
              "      <td>...</td>\n",
              "      <td>100</td>\n",
              "      <td>828</td>\n",
              "      <td>0</td>\n",
              "      <td>49</td>\n",
              "      <td>103</td>\n",
              "      <td>10</td>\n",
              "      <td>335</td>\n",
              "      <td>67</td>\n",
              "      <td>56</td>\n",
              "      <td>0</td>\n",
              "    </tr>\n",
              "    <tr>\n",
              "      <th>Sunday</th>\n",
              "      <td>6</td>\n",
              "      <td>66</td>\n",
              "      <td>27</td>\n",
              "      <td>0</td>\n",
              "      <td>38</td>\n",
              "      <td>11</td>\n",
              "      <td>548</td>\n",
              "      <td>40</td>\n",
              "      <td>22</td>\n",
              "      <td>3</td>\n",
              "      <td>...</td>\n",
              "      <td>278</td>\n",
              "      <td>206</td>\n",
              "      <td>0</td>\n",
              "      <td>43</td>\n",
              "      <td>90</td>\n",
              "      <td>11</td>\n",
              "      <td>203</td>\n",
              "      <td>90</td>\n",
              "      <td>54</td>\n",
              "      <td>0</td>\n",
              "    </tr>\n",
              "    <tr>\n",
              "      <th>Thursday</th>\n",
              "      <td>60</td>\n",
              "      <td>849</td>\n",
              "      <td>0</td>\n",
              "      <td>0</td>\n",
              "      <td>9</td>\n",
              "      <td>26</td>\n",
              "      <td>153</td>\n",
              "      <td>77</td>\n",
              "      <td>73</td>\n",
              "      <td>2</td>\n",
              "      <td>...</td>\n",
              "      <td>33</td>\n",
              "      <td>425</td>\n",
              "      <td>0</td>\n",
              "      <td>41</td>\n",
              "      <td>228</td>\n",
              "      <td>151</td>\n",
              "      <td>271</td>\n",
              "      <td>230</td>\n",
              "      <td>167</td>\n",
              "      <td>0</td>\n",
              "    </tr>\n",
              "    <tr>\n",
              "      <th>Tuesday</th>\n",
              "      <td>356</td>\n",
              "      <td>745</td>\n",
              "      <td>71</td>\n",
              "      <td>0</td>\n",
              "      <td>76</td>\n",
              "      <td>164</td>\n",
              "      <td>160</td>\n",
              "      <td>32</td>\n",
              "      <td>85</td>\n",
              "      <td>1</td>\n",
              "      <td>...</td>\n",
              "      <td>11</td>\n",
              "      <td>454</td>\n",
              "      <td>1</td>\n",
              "      <td>29</td>\n",
              "      <td>47</td>\n",
              "      <td>128</td>\n",
              "      <td>98</td>\n",
              "      <td>171</td>\n",
              "      <td>21</td>\n",
              "      <td>0</td>\n",
              "    </tr>\n",
              "    <tr>\n",
              "      <th>Wednesday</th>\n",
              "      <td>68</td>\n",
              "      <td>864</td>\n",
              "      <td>65</td>\n",
              "      <td>0</td>\n",
              "      <td>127</td>\n",
              "      <td>223</td>\n",
              "      <td>160</td>\n",
              "      <td>19</td>\n",
              "      <td>436</td>\n",
              "      <td>5</td>\n",
              "      <td>...</td>\n",
              "      <td>26</td>\n",
              "      <td>698</td>\n",
              "      <td>0</td>\n",
              "      <td>9</td>\n",
              "      <td>53</td>\n",
              "      <td>401</td>\n",
              "      <td>87</td>\n",
              "      <td>170</td>\n",
              "      <td>138</td>\n",
              "      <td>0</td>\n",
              "    </tr>\n",
              "  </tbody>\n",
              "</table>\n",
              "<p>7 rows × 25 columns</p>\n",
              "</div>"
            ],
            "text/plain": [
              "LocationName     Barcroft Park  Bluemont Park  Bon Air Park  Drew Center  \\\n",
              "day_of_the_week                                                            \n",
              "Friday                       3            711             4            0   \n",
              "Monday                      27            765            21            0   \n",
              "Saturday                    55             74            10            7   \n",
              "Sunday                       6             66            27            0   \n",
              "Thursday                    60            849             0            0   \n",
              "Tuesday                    356            745            71            0   \n",
              "Wednesday                   68            864            65            0   \n",
              "\n",
              "LocationName     Fort Scott Park  Glebe Park  Greenbrier Park  Gunston Center  \\\n",
              "day_of_the_week                                                                 \n",
              "Friday                         3          20              148              20   \n",
              "Monday                         9          18              150              17   \n",
              "Saturday                      52          30              266              60   \n",
              "Sunday                        38          11              548              40   \n",
              "Thursday                       9          26              153              77   \n",
              "Tuesday                       76         164              160              32   \n",
              "Wednesday                    127         223              160              19   \n",
              "\n",
              "LocationName     Hayes Park  Jamestown Park          ...            \\\n",
              "day_of_the_week                                      ...             \n",
              "Friday                   32               3          ...             \n",
              "Monday                  464              14          ...             \n",
              "Saturday                 23               5          ...             \n",
              "Sunday                   22               3          ...             \n",
              "Thursday                 73               2          ...             \n",
              "Tuesday                  85               1          ...             \n",
              "Wednesday               436               5          ...             \n",
              "\n",
              "LocationName     Maury Park  Quincy Park  Stratford Park  \\\n",
              "day_of_the_week                                            \n",
              "Friday                   12          251               0   \n",
              "Monday                   13          319               0   \n",
              "Saturday                100          828               0   \n",
              "Sunday                  278          206               0   \n",
              "Thursday                 33          425               0   \n",
              "Tuesday                  11          454               1   \n",
              "Wednesday                26          698               0   \n",
              "\n",
              "LocationName     Thomas Jefferson Center  Towers Park  Tuckahoe Park  \\\n",
              "day_of_the_week                                                        \n",
              "Friday                                 6            5            420   \n",
              "Monday                                17           40            135   \n",
              "Saturday                              49          103             10   \n",
              "Sunday                                43           90             11   \n",
              "Thursday                              41          228            151   \n",
              "Tuesday                               29           47            128   \n",
              "Wednesday                              9           53            401   \n",
              "\n",
              "LocationName     Virginia Highlands Park  Wakefield High School  \\\n",
              "day_of_the_week                                                   \n",
              "Friday                                47                    151   \n",
              "Monday                                82                    189   \n",
              "Saturday                             335                     67   \n",
              "Sunday                               203                     90   \n",
              "Thursday                             271                    230   \n",
              "Tuesday                               98                    171   \n",
              "Wednesday                             87                    170   \n",
              "\n",
              "LocationName     Walter Reed Center  Langston Brown Center  \n",
              "day_of_the_week                                             \n",
              "Friday                           17                      0  \n",
              "Monday                          239                      0  \n",
              "Saturday                         56                      0  \n",
              "Sunday                           54                      0  \n",
              "Thursday                        167                      0  \n",
              "Tuesday                          21                      0  \n",
              "Wednesday                       138                      0  \n",
              "\n",
              "[7 rows x 25 columns]"
            ]
          },
          "metadata": {
            "tags": []
          },
          "execution_count": 36
        }
      ]
    },
    {
      "metadata": {
        "id": "Nzxaj4f7vtIG",
        "colab_type": "text"
      },
      "cell_type": "markdown",
      "source": [
        "Looks good (although the weekdays are out of order).  More of that convenient matrix math, and then the same trick with the index we use before to get the days in chronological order:"
      ]
    },
    {
      "metadata": {
        "id": "GiXuY-z7vqVw",
        "colab_type": "code",
        "colab": {}
      },
      "cell_type": "code",
      "source": [
        "df_for_heatmap_3 = df_heat_1_single_courts + df_heat_1_all_courts_at_once * number_of_courts\n",
        "df_for_heatmap_3.index = pd.Categorical(df_for_heatmap_3.index,categories=['Monday','Tuesday','Wednesday','Thursday','Friday','Saturday','Sunday'], ordered=True)\n",
        "df_for_heatmap_3 = df_for_heatmap_3.sort_index()"
      ],
      "execution_count": 0,
      "outputs": []
    },
    {
      "metadata": {
        "id": "PZndqu8j_Uqr",
        "colab_type": "code",
        "colab": {
          "base_uri": "https://localhost:8080/",
          "height": 481
        },
        "outputId": "13423a66-2305-4a88-a24c-8ea4cb188f49"
      },
      "cell_type": "code",
      "source": [
        "sns.heatmap(df_for_heatmap_3)"
      ],
      "execution_count": 38,
      "outputs": [
        {
          "output_type": "execute_result",
          "data": {
            "text/plain": [
              "<matplotlib.axes._subplots.AxesSubplot at 0x7fb4d6df3588>"
            ]
          },
          "metadata": {
            "tags": []
          },
          "execution_count": 38
        },
        {
          "output_type": "display_data",
          "data": {
            "image/png": "[encoded data removed]",
            "text/plain": [
              "<matplotlib.figure.Figure at 0x7fb4d6823320>"
            ]
          },
          "metadata": {
            "tags": []
          }
        }
      ]
    },
    {
      "metadata": {
        "id": "NgB35JZN6cWb",
        "colab_type": "text"
      },
      "cell_type": "markdown",
      "source": [
        "Now we're looking at number of reservations per court.\n",
        "\n",
        "Okay, 'Bluemont Park' courts on weeknights is by far the most reserved!\n",
        "\n",
        "If I were really fancy, I'd convert to number of hours, since the reservation lengths aren't all the same, but this tells the story well enough.\n",
        "\n",
        "Showing actual numbers, and barplots:"
      ]
    },
    {
      "metadata": {
        "id": "dXho1LLO6B_5",
        "colab_type": "code",
        "colab": {
          "base_uri": "https://localhost:8080/",
          "height": 476
        },
        "outputId": "3144ffbc-12d0-468b-b134-635696fd144c"
      },
      "cell_type": "code",
      "source": [
        "df_for_heatmap_3.sum() # number of reservations per court"
      ],
      "execution_count": 39,
      "outputs": [
        {
          "output_type": "execute_result",
          "data": {
            "text/plain": [
              "LocationName\n",
              "Barcroft Park               1932\n",
              "Bluemont Park              41388\n",
              "Bon Air Park                 635\n",
              "Drew Center                   22\n",
              "Fort Scott Park             1256\n",
              "Glebe Park                  2008\n",
              "Greenbrier Park            11991\n",
              "Gunston Center              1092\n",
              "Hayes Park                  4210\n",
              "Jamestown Park               109\n",
              "Jennie Dean Park              14\n",
              "Kenmore Middle School       1221\n",
              "Langston Brown Center        453\n",
              "Lyon Village Park           5163\n",
              "Madison Manor Park           182\n",
              "Marcey Road Park            3453\n",
              "Maury Park                  1591\n",
              "Quincy Park                22787\n",
              "Stratford Park                 4\n",
              "Thomas Jefferson Center     1039\n",
              "Towers Park                 2914\n",
              "Tuckahoe Park               4360\n",
              "Virginia Highlands Park     7857\n",
              "Wakefield High School       9492\n",
              "Walter Reed Center          2874\n",
              "dtype: int64"
            ]
          },
          "metadata": {
            "tags": []
          },
          "execution_count": 39
        }
      ]
    },
    {
      "metadata": {
        "id": "Tbz5TeZt3-CV",
        "colab_type": "code",
        "colab": {
          "base_uri": "https://localhost:8080/",
          "height": 481
        },
        "outputId": "a8cf1c52-2c2b-4378-a7ae-40ac66cca1e8"
      },
      "cell_type": "code",
      "source": [
        "df_for_heatmap_3.sum().plot.bar() # number of resrevations per court"
      ],
      "execution_count": 40,
      "outputs": [
        {
          "output_type": "execute_result",
          "data": {
            "text/plain": [
              "<matplotlib.axes._subplots.AxesSubplot at 0x7fb4d650e320>"
            ]
          },
          "metadata": {
            "tags": []
          },
          "execution_count": 40
        },
        {
          "output_type": "display_data",
          "data": {
            "image/png": "[encoded data removed]",
            "text/plain": [
              "<matplotlib.figure.Figure at 0x7fb4d651e0f0>"
            ]
          },
          "metadata": {
            "tags": []
          }
        }
      ]
    },
    {
      "metadata": {
        "id": "tO5sNGL-AYHp",
        "colab_type": "code",
        "colab": {
          "base_uri": "https://localhost:8080/",
          "height": 481
        },
        "outputId": "79333bf4-89d4-40d3-cb5d-95b02aaa5a92"
      },
      "cell_type": "code",
      "source": [
        "df_for_heatmap_3.sum().sort_values(ascending=False).plot.bar() # number of resrevations per court, sorted"
      ],
      "execution_count": 41,
      "outputs": [
        {
          "output_type": "execute_result",
          "data": {
            "text/plain": [
              "<matplotlib.axes._subplots.AxesSubplot at 0x7fb4d64116a0>"
            ]
          },
          "metadata": {
            "tags": []
          },
          "execution_count": 41
        },
        {
          "output_type": "display_data",
          "data": {
            "image/png": "[encoded data removed]",
            "text/plain": [
              "<matplotlib.figure.Figure at 0x7fb4d642f278>"
            ]
          },
          "metadata": {
            "tags": []
          }
        }
      ]
    },
    {
      "metadata": {
        "id": "sOd0jlILB9lF",
        "colab_type": "text"
      },
      "cell_type": "markdown",
      "source": [
        "So 'Walter Reed Center' is 11th out of 24 locations, and of the 84 reservable courts... \n",
        "\n",
        "let's see how many courts are more popular...\n",
        "\n",
        "Grabbing the top 10 locations, and using those to subset our number_of_courts calculation from earlier..."
      ]
    },
    {
      "metadata": {
        "id": "5fGjlMmVCaNa",
        "colab_type": "code",
        "colab": {
          "base_uri": "https://localhost:8080/",
          "height": 221
        },
        "outputId": "8c79404b-6500-478c-c1fc-aec43abbd2e2"
      },
      "cell_type": "code",
      "source": [
        "top_10 = df_for_heatmap_3.sum().sort_values(ascending=False)[0:10]\n",
        "top_10"
      ],
      "execution_count": 42,
      "outputs": [
        {
          "output_type": "execute_result",
          "data": {
            "text/plain": [
              "LocationName\n",
              "Bluemont Park              41388\n",
              "Quincy Park                22787\n",
              "Greenbrier Park            11991\n",
              "Wakefield High School       9492\n",
              "Virginia Highlands Park     7857\n",
              "Lyon Village Park           5163\n",
              "Tuckahoe Park               4360\n",
              "Hayes Park                  4210\n",
              "Marcey Road Park            3453\n",
              "Towers Park                 2914\n",
              "dtype: int64"
            ]
          },
          "metadata": {
            "tags": []
          },
          "execution_count": 42
        }
      ]
    },
    {
      "metadata": {
        "id": "Uxp_f1qBDlIF",
        "colab_type": "code",
        "colab": {
          "base_uri": "https://localhost:8080/",
          "height": 221
        },
        "outputId": "f98ac330-406e-4bc0-fae9-69bc3e1b1f51"
      },
      "cell_type": "code",
      "source": [
        "number_of_courts[top_10.index.values]"
      ],
      "execution_count": 43,
      "outputs": [
        {
          "output_type": "execute_result",
          "data": {
            "text/plain": [
              "LocationName\n",
              "Bluemont Park              9\n",
              "Quincy Park                6\n",
              "Greenbrier Park            6\n",
              "Wakefield High School      7\n",
              "Virginia Highlands Park    6\n",
              "Lyon Village Park          2\n",
              "Tuckahoe Park              2\n",
              "Hayes Park                 2\n",
              "Marcey Road Park           3\n",
              "Towers Park                4\n",
              "dtype: int64"
            ]
          },
          "metadata": {
            "tags": []
          },
          "execution_count": 43
        }
      ]
    },
    {
      "metadata": {
        "id": "azhU2GiNEA3o",
        "colab_type": "code",
        "colab": {
          "base_uri": "https://localhost:8080/",
          "height": 34
        },
        "outputId": "27fc02b4-5194-4846-d44e-7b20db829840"
      },
      "cell_type": "code",
      "source": [
        "number_of_courts[top_10.index.values].sum()"
      ],
      "execution_count": 44,
      "outputs": [
        {
          "output_type": "execute_result",
          "data": {
            "text/plain": [
              "47"
            ]
          },
          "metadata": {
            "tags": []
          },
          "execution_count": 44
        }
      ]
    },
    {
      "metadata": {
        "id": "IlvisrIfEMOD",
        "colab_type": "text"
      },
      "cell_type": "markdown",
      "source": [
        "So out of the 84 reservable courts in Arlington, the Walter Reed courts rank number 48, 49, and 50 in popularity."
      ]
    },
    {
      "metadata": {
        "id": "N4zTTdstEer0",
        "colab_type": "text"
      },
      "cell_type": "markdown",
      "source": [
        "Just for fun, let's see if larger facilities get more reservations..."
      ]
    },
    {
      "metadata": {
        "id": "AO2tg5sTEdhD",
        "colab_type": "code",
        "colab": {
          "base_uri": "https://localhost:8080/",
          "height": 163
        },
        "outputId": "e62fd214-e740-4e8e-a0d2-5cc4bd90693a"
      },
      "cell_type": "code",
      "source": [
        "sns.scatterplot(x = number_of_courts.values, y=df_for_heatmap_3.sum().values)"
      ],
      "execution_count": 45,
      "outputs": [
        {
          "output_type": "error",
          "ename": "AttributeError",
          "evalue": "ignored",
          "traceback": [
            "\u001b[0;31m---------------------------------------------------------------------------\u001b[0m",
            "\u001b[0;31mAttributeError\u001b[0m                            Traceback (most recent call last)",
            "\u001b[0;32m<ipython-input-45-6a48e1778e6f>\u001b[0m in \u001b[0;36m<module>\u001b[0;34m()\u001b[0m\n\u001b[0;32m----> 1\u001b[0;31m \u001b[0msns\u001b[0m\u001b[0;34m.\u001b[0m\u001b[0mscatterplot\u001b[0m\u001b[0;34m(\u001b[0m\u001b[0mx\u001b[0m \u001b[0;34m=\u001b[0m \u001b[0mnumber_of_courts\u001b[0m\u001b[0;34m.\u001b[0m\u001b[0mvalues\u001b[0m\u001b[0;34m,\u001b[0m \u001b[0my\u001b[0m\u001b[0;34m=\u001b[0m\u001b[0mdf_for_heatmap_3\u001b[0m\u001b[0;34m.\u001b[0m\u001b[0msum\u001b[0m\u001b[0;34m(\u001b[0m\u001b[0;34m)\u001b[0m\u001b[0;34m.\u001b[0m\u001b[0mvalues\u001b[0m\u001b[0;34m)\u001b[0m\u001b[0;34m\u001b[0m\u001b[0m\n\u001b[0m",
            "\u001b[0;31mAttributeError\u001b[0m: module 'seaborn' has no attribute 'scatterplot'"
          ]
        }
      ]
    },
    {
      "metadata": {
        "id": "JEVCLspIHMIe",
        "colab_type": "code",
        "colab": {
          "base_uri": "https://localhost:8080/",
          "height": 34
        },
        "outputId": "66198a00-3f06-40d4-ee64-200a8e0ddb57"
      },
      "cell_type": "code",
      "source": [
        "sns.__version__"
      ],
      "execution_count": 173,
      "outputs": [
        {
          "output_type": "execute_result",
          "data": {
            "text/plain": [
              "'0.7.1'"
            ]
          },
          "metadata": {
            "tags": []
          },
          "execution_count": 173
        }
      ]
    },
    {
      "metadata": {
        "id": "TLE8qJ-FHjaZ",
        "colab_type": "text"
      },
      "cell_type": "markdown",
      "source": [
        "If Google Colab isn't installing the latest version (0.9.0) by default, that's not a dragon I'm looking to slay right now."
      ]
    },
    {
      "metadata": {
        "id": "-I_6MjthIG6_",
        "colab_type": "code",
        "colab": {
          "base_uri": "https://localhost:8080/",
          "height": 364
        },
        "outputId": "34abd9ca-3556-4747-8370-b5056feeaeeb"
      },
      "cell_type": "code",
      "source": [
        "matplotlib.pyplot.scatter(x = number_of_courts.values, y = df_for_heatmap_3.sum().values)"
      ],
      "execution_count": 46,
      "outputs": [
        {
          "output_type": "execute_result",
          "data": {
            "text/plain": [
              "<matplotlib.collections.PathCollection at 0x7fb4d6231780>"
            ]
          },
          "metadata": {
            "tags": []
          },
          "execution_count": 46
        },
        {
          "output_type": "display_data",
          "data": {
            "image/png": "[encoded data removed]",
            "text/plain": [
              "<matplotlib.figure.Figure at 0x7fb4d626fc50>"
            ]
          },
          "metadata": {
            "tags": []
          }
        }
      ]
    },
    {
      "metadata": {
        "id": "lYWKPNqQKWoC",
        "colab_type": "text"
      },
      "cell_type": "markdown",
      "source": [
        "So that's number of courts at a facility on the x-axis, and number of reservations per court on the y-axis.  Courts at facilities with 6+ courts get the lions' share of the reservations."
      ]
    },
    {
      "metadata": {
        "id": "36zfKoRc8Scd",
        "colab_type": "text"
      },
      "cell_type": "markdown",
      "source": [
        "Seasonality?\n",
        "\n",
        "I'll be a little lazy and create a new column for 'month' instead of trying to fiddle with the groupby syntax to see if it can accept something that's not a column."
      ]
    },
    {
      "metadata": {
        "id": "r5loNjHy80WX",
        "colab_type": "code",
        "colab": {}
      },
      "cell_type": "code",
      "source": [
        "df['month'] = df.start_datetime.dt.month"
      ],
      "execution_count": 0,
      "outputs": []
    },
    {
      "metadata": {
        "id": "hBGWFWyF_UeF",
        "colab_type": "code",
        "colab": {}
      },
      "cell_type": "code",
      "source": [
        "df_heat_4 = df.groupby(['day_of_the_week','month'])['start_datetime'].count().unstack(fill_value=0)\n",
        "df_heat_4.index = pd.Categorical(df_heat_4.index,categories=['Monday','Tuesday','Wednesday','Thursday','Friday','Saturday','Sunday'], ordered=True)\n",
        "df_heat_4 = df_heat_4.sort_index()\n",
        "\n"
      ],
      "execution_count": 0,
      "outputs": []
    },
    {
      "metadata": {
        "id": "DPteDoXs9VxO",
        "colab_type": "code",
        "colab": {
          "base_uri": "https://localhost:8080/",
          "height": 378
        },
        "outputId": "03d1a1cf-fd54-44c2-b8c5-0bddb2ff7c5d"
      },
      "cell_type": "code",
      "source": [
        "sns.heatmap(df_heat_4)"
      ],
      "execution_count": 49,
      "outputs": [
        {
          "output_type": "execute_result",
          "data": {
            "text/plain": [
              "<matplotlib.axes._subplots.AxesSubplot at 0x7fb4d626f6d8>"
            ]
          },
          "metadata": {
            "tags": []
          },
          "execution_count": 49
        },
        {
          "output_type": "display_data",
          "data": {
            "image/png": "[encoded data removed]",
            "text/plain": [
              "<matplotlib.figure.Figure at 0x7fb4d67e0048>"
            ]
          },
          "metadata": {
            "tags": []
          }
        }
      ]
    },
    {
      "metadata": {
        "id": "hNJeBuFMFC43",
        "colab_type": "text"
      },
      "cell_type": "markdown",
      "source": [
        "\n",
        "Wow, reservations in May are huge.\n",
        "\n",
        "Okay, let's have a peek at why people are reserving 'Walter Reed Center':"
      ]
    },
    {
      "metadata": {
        "id": "_d8jnpUAPbLe",
        "colab_type": "code",
        "colab": {}
      },
      "cell_type": "code",
      "source": [
        "wr_df = df[ df['LocationName']=='Walter Reed Center']"
      ],
      "execution_count": 0,
      "outputs": []
    },
    {
      "metadata": {
        "id": "xHfO-6eE9Vl3",
        "colab_type": "code",
        "colab": {
          "base_uri": "https://localhost:8080/",
          "height": 1071
        },
        "outputId": "c56f49bd-be8b-4014-e0c1-16d4ffb8c3be"
      },
      "cell_type": "code",
      "source": [
        "wr_df.ReservationPurposeDsc.value_counts()"
      ],
      "execution_count": 51,
      "outputs": [
        {
          "output_type": "execute_result",
          "data": {
            "text/plain": [
              "ACTA                                                                               84\n",
              "First Serve Tennis- Little Shots & Fun and Fundamentals                            60\n",
              "55+/Pickleball                                                                     48\n",
              "Private Reservation                                                                44\n",
              "340604-J (Tennis 3)                                                                44\n",
              "140605-F (Tennis 4)                                                                38\n",
              "110602-W (Little Shots)                                                            38\n",
              "ACTA Spring                                                                        32\n",
              "Tennis Court Maintenance                                                           32\n",
              "440604-N (Tennis 3)                                                                30\n",
              "ACTA - Fall                                                                        28\n",
              "Pickleball                                                                         24\n",
              "310602-V (Little Shots)                                                            22\n",
              "320602-V (Tennis 1 & 2 (7-10))                                                     22\n",
              "310603-F (Super Shots)                                                             22\n",
              "440605-I (Tennis 4)                                                                20\n",
              "340605-H (Tennis 4)                                                                20\n",
              "320602-W (Tennis 1 & 2 (7-10))                                                     20\n",
              "140604-H (Tennis 3)                                                                20\n",
              "140606-B (Cardio Fit Tennis)                                                       20\n",
              "440604-L (Tennis 3)                                                                20\n",
              "110603-D (Super Shots)                                                             20\n",
              "110602-V (Little Shots)                                                            20\n",
              "320602-X (Tennis 1 & 2 (10-14))                                                    20\n",
              "410602-Y (Little Shots)                                                            20\n",
              "140605-E (Tennis 4)                                                                20\n",
              "340605-G (Tennis 4)                                                                20\n",
              "120602-Z (Tennis 1 & 2)                                                            20\n",
              "240601-G (Tennis 1)                                                                20\n",
              "120602-Y (Tennis 1 & 2)                                                            20\n",
              "                                                                                   ..\n",
              "240602-I (Tennis 2)                                                                10\n",
              "220602-E (Tennis 1&2 (Ages 7-10))                                                  10\n",
              "410602-DD (Little Shots)                                                           10\n",
              "410602-CC (Little Shots)                                                           10\n",
              "420602-ZZ (Tennis 1 & 2)                                                           10\n",
              "240602-G (Tennis 2)                                                                10\n",
              "OSAP Program - Pickleball                                                           8\n",
              "440612-I (Private Lesson)                                                           8\n",
              "First Serve Tennis Staff Training                                                   8\n",
              "110602-T (Little Shots)                                                             6\n",
              "140606-F (Cardio Fit Tennis)                                                        6\n",
              "440612-D (Private Lessons)                                                          6\n",
              "120602-X (Tennis 1 & 2 (Age 7-10))                                                  6\n",
              "120602-Y (Tennis 1 & 2 (Age 10-14))                                                 6\n",
              "420602-KK (Tennis 1 & 2)                                                            6\n",
              "420602-MM (Tennis 1 & 2)                                                            6\n",
              "140605-H (Tennis 4)                                                                 6\n",
              "WR OSAP (Using due to Gym Repair)                                                   4\n",
              "OSAP Program - Pickleball Friendly                                                  4\n",
              "OSAP 55+ Picnic (rescheduled from 9/13) will take place outdoors                    4\n",
              "OSAP-55+-Pickleball Social Mixer                                                    4\n",
              "440612-H (Private Lesson)                                                           4\n",
              "OSAP Pickleball                                                                     4\n",
              "440612-F (Private Lessons)                                                          4\n",
              "WR OSAP Pickleball                                                                  4\n",
              "osap pickleball                                                                     4\n",
              "OSAP Program - Pickleball Level II (Fee Based Class)                                4\n",
              "OSAP Countywide 55+ Picnic Outside (Inside Spaces will be used In Case of Rain)     3\n",
              "440612-J (Private Lessons)                                                          2\n",
              "Johnson , Tim                                                                       2\n",
              "Name: ReservationPurposeDsc, Length: 85, dtype: int64"
            ]
          },
          "metadata": {
            "tags": []
          },
          "execution_count": 51
        }
      ]
    },
    {
      "metadata": {
        "id": "SI_MY9bQQj78",
        "colab_type": "code",
        "colab": {
          "base_uri": "https://localhost:8080/",
          "height": 34
        },
        "outputId": "46c685bc-f5a2-4b04-b86f-2350b6966288"
      },
      "cell_type": "code",
      "source": [
        "total_reservations_at_wr = wr_df.ReservationPurposeDsc.value_counts().sum()\n",
        "total_reservations_at_wr "
      ],
      "execution_count": 52,
      "outputs": [
        {
          "output_type": "execute_result",
          "data": {
            "text/plain": [
              "1451"
            ]
          },
          "metadata": {
            "tags": []
          },
          "execution_count": 52
        }
      ]
    },
    {
      "metadata": {
        "id": "VgyI6aykQGP2",
        "colab_type": "text"
      },
      "cell_type": "markdown",
      "source": [
        "There's some pickleball in there!  How much?  Uppercase 'P' and lowercase 'p' are used, so let's just omit the first letter."
      ]
    },
    {
      "metadata": {
        "id": "e1neBmGTKHbg",
        "colab_type": "code",
        "colab": {
          "base_uri": "https://localhost:8080/",
          "height": 187
        },
        "outputId": "72e08fe0-a2ae-4cab-98fb-07d0d2c8e3f2"
      },
      "cell_type": "code",
      "source": [
        "wr_df[wr_df.ReservationPurposeDsc.str.contains('ickle', na = False)].ReservationPurposeDsc.value_counts()"
      ],
      "execution_count": 53,
      "outputs": [
        {
          "output_type": "execute_result",
          "data": {
            "text/plain": [
              "55+/Pickleball                                          48\n",
              "Pickleball                                              24\n",
              "OSAP Program - Pickleball                                8\n",
              "OSAP Pickleball                                          4\n",
              "osap pickleball                                          4\n",
              "OSAP-55+-Pickleball Social Mixer                         4\n",
              "OSAP Program - Pickleball Level II (Fee Based Class)     4\n",
              "WR OSAP Pickleball                                       4\n",
              "OSAP Program - Pickleball Friendly                       4\n",
              "Name: ReservationPurposeDsc, dtype: int64"
            ]
          },
          "metadata": {
            "tags": []
          },
          "execution_count": 53
        }
      ]
    },
    {
      "metadata": {
        "id": "TPPmHXnVQrMq",
        "colab_type": "code",
        "colab": {
          "base_uri": "https://localhost:8080/",
          "height": 34
        },
        "outputId": "8323ebc1-4c65-4386-b40d-3f14e618d776"
      },
      "cell_type": "code",
      "source": [
        "pickleball_reservations_at_wr = wr_df[wr_df.ReservationPurposeDsc.str.contains('ickle', na = False)].ReservationPurposeDsc.value_counts().sum()\n",
        "pickleball_reservations_at_wr"
      ],
      "execution_count": 54,
      "outputs": [
        {
          "output_type": "execute_result",
          "data": {
            "text/plain": [
              "104"
            ]
          },
          "metadata": {
            "tags": []
          },
          "execution_count": 54
        }
      ]
    },
    {
      "metadata": {
        "id": "jfi83dRMQ-Di",
        "colab_type": "text"
      },
      "cell_type": "markdown",
      "source": [
        "So as a fraction..."
      ]
    },
    {
      "metadata": {
        "id": "lUUBY48nQtJd",
        "colab_type": "code",
        "colab": {
          "base_uri": "https://localhost:8080/",
          "height": 34
        },
        "outputId": "75ed9250-281c-4564-fd90-59df116e315d"
      },
      "cell_type": "code",
      "source": [
        "pickleball_reservations_at_wr/total_reservations_at_wr"
      ],
      "execution_count": 55,
      "outputs": [
        {
          "output_type": "execute_result",
          "data": {
            "text/plain": [
              "0.07167470709855273"
            ]
          },
          "metadata": {
            "tags": []
          },
          "execution_count": 55
        }
      ]
    },
    {
      "metadata": {
        "id": "ctBwUbqgRGBM",
        "colab_type": "text"
      },
      "cell_type": "markdown",
      "source": [
        "That's les than 10% of reservations.  Non-zero, though!\n",
        "\n",
        "One last plot of usage over time for 'Walter Reed Center'.  I'll similartly be lazy and make a new column for year so that I can use groupby() easily.\n",
        "\n",
        "I'll add the column to the larger dataframe ('df'), then update wr_df so that it has the new column."
      ]
    },
    {
      "metadata": {
        "id": "BIMn_khPTTXI",
        "colab_type": "code",
        "colab": {}
      },
      "cell_type": "code",
      "source": [
        "df['year'] = df.start_datetime.dt.year"
      ],
      "execution_count": 0,
      "outputs": []
    },
    {
      "metadata": {
        "id": "kN_cenKHzJc9",
        "colab_type": "code",
        "colab": {}
      },
      "cell_type": "code",
      "source": [
        "wr_df = df[ df['LocationName']=='Walter Reed Center']"
      ],
      "execution_count": 0,
      "outputs": []
    },
    {
      "metadata": {
        "id": "CLb5ed-wBMxa",
        "colab_type": "text"
      },
      "cell_type": "markdown",
      "source": [
        "Now some groupby() to get what we're interested in: reservations broken down by month, with each year in a different column"
      ]
    },
    {
      "metadata": {
        "id": "ryTbEQLqTllf",
        "colab_type": "code",
        "colab": {}
      },
      "cell_type": "code",
      "source": [
        "wr_df2 = wr_df.groupby(['month','year'])['start_datetime'].count().unstack(fill_value=0)"
      ],
      "execution_count": 0,
      "outputs": []
    },
    {
      "metadata": {
        "id": "yAukplYP7IaW",
        "colab_type": "code",
        "colab": {
          "base_uri": "https://localhost:8080/",
          "height": 359
        },
        "outputId": "f844d060-77ec-4020-8e97-8fad27171663"
      },
      "cell_type": "code",
      "source": [
        "wr_df2"
      ],
      "execution_count": 59,
      "outputs": [
        {
          "output_type": "execute_result",
          "data": {
            "text/html": [
              "<div>\n",
              "<style scoped>\n",
              "    .dataframe tbody tr th:only-of-type {\n",
              "        vertical-align: middle;\n",
              "    }\n",
              "\n",
              "    .dataframe tbody tr th {\n",
              "        vertical-align: top;\n",
              "    }\n",
              "\n",
              "    .dataframe thead th {\n",
              "        text-align: right;\n",
              "    }\n",
              "</style>\n",
              "<table border=\"1\" class=\"dataframe\">\n",
              "  <thead>\n",
              "    <tr style=\"text-align: right;\">\n",
              "      <th>year</th>\n",
              "      <th>2016</th>\n",
              "      <th>2017</th>\n",
              "      <th>2018</th>\n",
              "    </tr>\n",
              "    <tr>\n",
              "      <th>month</th>\n",
              "      <th></th>\n",
              "      <th></th>\n",
              "      <th></th>\n",
              "    </tr>\n",
              "  </thead>\n",
              "  <tbody>\n",
              "    <tr>\n",
              "      <th>3</th>\n",
              "      <td>30</td>\n",
              "      <td>24</td>\n",
              "      <td>22</td>\n",
              "    </tr>\n",
              "    <tr>\n",
              "      <th>4</th>\n",
              "      <td>78</td>\n",
              "      <td>52</td>\n",
              "      <td>60</td>\n",
              "    </tr>\n",
              "    <tr>\n",
              "      <th>5</th>\n",
              "      <td>80</td>\n",
              "      <td>62</td>\n",
              "      <td>50</td>\n",
              "    </tr>\n",
              "    <tr>\n",
              "      <th>6</th>\n",
              "      <td>78</td>\n",
              "      <td>62</td>\n",
              "      <td>38</td>\n",
              "    </tr>\n",
              "    <tr>\n",
              "      <th>7</th>\n",
              "      <td>60</td>\n",
              "      <td>68</td>\n",
              "      <td>30</td>\n",
              "    </tr>\n",
              "    <tr>\n",
              "      <th>8</th>\n",
              "      <td>122</td>\n",
              "      <td>62</td>\n",
              "      <td>40</td>\n",
              "    </tr>\n",
              "    <tr>\n",
              "      <th>9</th>\n",
              "      <td>86</td>\n",
              "      <td>74</td>\n",
              "      <td>62</td>\n",
              "    </tr>\n",
              "    <tr>\n",
              "      <th>10</th>\n",
              "      <td>82</td>\n",
              "      <td>58</td>\n",
              "      <td>10</td>\n",
              "    </tr>\n",
              "    <tr>\n",
              "      <th>11</th>\n",
              "      <td>64</td>\n",
              "      <td>36</td>\n",
              "      <td>0</td>\n",
              "    </tr>\n",
              "  </tbody>\n",
              "</table>\n",
              "</div>"
            ],
            "text/plain": [
              "year   2016  2017  2018\n",
              "month                  \n",
              "3        30    24    22\n",
              "4        78    52    60\n",
              "5        80    62    50\n",
              "6        78    62    38\n",
              "7        60    68    30\n",
              "8       122    62    40\n",
              "9        86    74    62\n",
              "10       82    58    10\n",
              "11       64    36     0"
            ]
          },
          "metadata": {
            "tags": []
          },
          "execution_count": 59
        }
      ]
    },
    {
      "metadata": {
        "id": "aBcadrsG9IOm",
        "colab_type": "code",
        "colab": {
          "base_uri": "https://localhost:8080/",
          "height": 378
        },
        "outputId": "35a1425d-8c29-4b86-89a7-ab07bb68af65"
      },
      "cell_type": "code",
      "source": [
        "wr_df2.plot()"
      ],
      "execution_count": 60,
      "outputs": [
        {
          "output_type": "execute_result",
          "data": {
            "text/plain": [
              "<matplotlib.axes._subplots.AxesSubplot at 0x7fb4d61c0f60>"
            ]
          },
          "metadata": {
            "tags": []
          },
          "execution_count": 60
        },
        {
          "output_type": "display_data",
          "data": {
            "image/png": "[encoded data removed]",
            "text/plain": [
              "<matplotlib.figure.Figure at 0x7fb4d61d29b0>"
            ]
          },
          "metadata": {
            "tags": []
          }
        }
      ]
    },
    {
      "metadata": {
        "id": "3aSJCvNPAwRk",
        "colab_type": "text"
      },
      "cell_type": "markdown",
      "source": [
        "So we can see that reservations at 'Walter Reed Center' are falling year-over-year.\n",
        "\n",
        "Maybe have a look at all reservations at all courts across the county, combined.  Basically the same code: "
      ]
    },
    {
      "metadata": {
        "id": "EKDWfP54AuIq",
        "colab_type": "code",
        "colab": {
          "base_uri": "https://localhost:8080/",
          "height": 378
        },
        "outputId": "98b18b64-d71f-4785-82c9-5a9e7b2a9fdd"
      },
      "cell_type": "code",
      "source": [
        "df.groupby(['month','year'])['start_datetime'].count().unstack(fill_value=0).plot()"
      ],
      "execution_count": 61,
      "outputs": [
        {
          "output_type": "execute_result",
          "data": {
            "text/plain": [
              "<matplotlib.axes._subplots.AxesSubplot at 0x7fb4d60f7550>"
            ]
          },
          "metadata": {
            "tags": []
          },
          "execution_count": 61
        },
        {
          "output_type": "display_data",
          "data": {
            "image/png": "[encoded data removed]",
            "text/plain": [
              "<matplotlib.figure.Figure at 0x7fb4d6183eb8>"
            ]
          },
          "metadata": {
            "tags": []
          }
        }
      ]
    },
    {
      "metadata": {
        "id": "l0N0qYqyTUuM",
        "colab_type": "text"
      },
      "cell_type": "markdown",
      "source": [
        "Also falling year-over-year!\n",
        "\n",
        "Summary:\n",
        "\n",
        "\n",
        "*   Out of the 84 reservable courts in Arlington, the Walter Reed courts rank number 48, 49, and 50 in popularity\n",
        "*   Courts at facilities with 6+ courts get the lions' share of the reservations.  (Walter Reed has only 3 courts.)\n",
        "*   Overall reservations are declining every year\n",
        "*   Walter Reed is thus an ideal candidate for conversion to pickleball courts\n"
      ]
    },
    {
      "metadata": {
        "id": "DnKIcRX2SPVH",
        "colab_type": "code",
        "colab": {}
      },
      "cell_type": "code",
      "source": [
        ""
      ],
      "execution_count": 0,
      "outputs": []
    },
    {
      "metadata": {
        "id": "1CxqFb3yWkJy",
        "colab_type": "text"
      },
      "cell_type": "markdown",
      "source": [
        ""
      ]
    },
    {
      "metadata": {
        "id": "gD5DdjLQWiyF",
        "colab_type": "text"
      },
      "cell_type": "markdown",
      "source": [
        ""
      ]
    },
    {
      "metadata": {
        "id": "etRqfj7UWilY",
        "colab_type": "text"
      },
      "cell_type": "markdown",
      "source": [
        ""
      ]
    },
    {
      "metadata": {
        "id": "Mg-nTuUyWiWy",
        "colab_type": "text"
      },
      "cell_type": "markdown",
      "source": [
        ""
      ]
    },
    {
      "metadata": {
        "id": "PI2tpjwjWiF4",
        "colab_type": "text"
      },
      "cell_type": "markdown",
      "source": [
        ""
      ]
    }
  ]
}